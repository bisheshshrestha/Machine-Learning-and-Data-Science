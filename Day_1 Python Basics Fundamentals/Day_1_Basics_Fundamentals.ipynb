{
 "cells": [
  {
   "cell_type": "markdown",
   "id": "3e77ffdd-eaef-42d8-b448-9789b6f33a8d",
   "metadata": {},
   "source": [
    "# Day 1 Python Basics Fundamentals and OOP Concepts"
   ]
  },
  {
   "cell_type": "markdown",
   "id": "5a897d38-97f3-41f6-bf8c-8ef70f4df0bb",
   "metadata": {},
   "source": [
    "## Writing our first program"
   ]
  },
  {
   "cell_type": "code",
   "execution_count": 6,
   "id": "4f8a4cf1-72a1-4464-8b8a-41d236d2cab0",
   "metadata": {},
   "outputs": [
    {
     "name": "stdout",
     "output_type": "stream",
     "text": [
      "Bishesh Lal Shrestha\n"
     ]
    }
   ],
   "source": [
    "print('Bishesh Lal Shrestha')"
   ]
  },
  {
   "cell_type": "markdown",
   "id": "16169344-11b1-4e65-bb6e-ca49c42c8ab7",
   "metadata": {},
   "source": [
    "## Variables in Python\n",
    "Variables need not be declared first in python.They can be used directly.Variables in python are case-sensitive as most of the other programming languages."
   ]
  },
  {
   "cell_type": "code",
   "execution_count": 11,
   "id": "70b82a36-074b-4532-8d3b-da9109ad3a74",
   "metadata": {},
   "outputs": [
    {
     "name": "stdout",
     "output_type": "stream",
     "text": [
      "3\n",
      "4\n"
     ]
    }
   ],
   "source": [
    "a =3\n",
    "A = 4\n",
    "print(a)\n",
    "print(A)"
   ]
  },
  {
   "cell_type": "markdown",
   "id": "46ef5918-cdcf-44cb-a9e5-27bd721c7b8b",
   "metadata": {},
   "source": [
    "## Expressions in Python \n",
    "Arithmetic operations in python can be performed by using arithmetic operators and some of the in-built functions"
   ]
  },
  {
   "cell_type": "code",
   "execution_count": 15,
   "id": "11b10a1a-d3c5-4e3c-a581-e82ed8d26764",
   "metadata": {},
   "outputs": [
    {
     "name": "stdout",
     "output_type": "stream",
     "text": [
      "5\n",
      "6\n",
      "-1\n"
     ]
    }
   ],
   "source": [
    "a = 2\n",
    "b = 3\n",
    "c = a + b  # Addition\n",
    "print(c)\n",
    "d = a * b  # Multiplication\n",
    "print(d)\n",
    "e = a - b  # Subtraction\n",
    "print(e)\n"
   ]
  },
  {
   "cell_type": "markdown",
   "id": "8dd3dff5-2be6-4f82-b9a9-f86b95a24343",
   "metadata": {},
   "source": [
    "## Conditions in Python \n",
    "Conditional output in python can be obtained by using if-else and elif (else if) statements"
   ]
  },
  {
   "cell_type": "code",
   "execution_count": 18,
   "id": "9694c00c-54bf-4749-8226-eb4658f6f041",
   "metadata": {},
   "outputs": [
    {
     "name": "stdout",
     "output_type": "stream",
     "text": [
      "The greatest number is 10\n"
     ]
    }
   ],
   "source": [
    "a = 3\n",
    "b = 9\n",
    "c = 10\n",
    "\n",
    "if a > b and a > c:\n",
    "    print(f\"The greatest number is {a}\")\n",
    "elif b > a and b > c:\n",
    "    print(f\"The greatest number is {b}\")\n",
    "else:\n",
    "    print(f\"The greatest number is {c}\")"
   ]
  },
  {
   "cell_type": "markdown",
   "id": "98c4a0d1-1381-40d6-962b-e36fd15cda9b",
   "metadata": {},
   "source": [
    "## Functions in Python \n",
    "A function in python is declared by the keyword 'def' before the name of the function. The return type of the function need not be specified explicitly in python. The function can be invoked by writing the function name followed by the parameter list in the brackets. "
   ]
  },
  {
   "cell_type": "code",
   "execution_count": 21,
   "id": "4a32583f-5f48-45b8-9fdf-58eb9036fe7e",
   "metadata": {},
   "outputs": [
    {
     "name": "stdout",
     "output_type": "stream",
     "text": [
      "4 is divisible by 2\n"
     ]
    }
   ],
   "source": [
    "def checkDivisible(a,b):\n",
    "    if a % b == 0:\n",
    "        print(f\"{a} is divisible by {b}\")\n",
    "    else:\n",
    "        print(f\"{a} is not divisible by {b}\")\n",
    "\n",
    "checkDivisible(4,2)"
   ]
  },
  {
   "cell_type": "markdown",
   "id": "83e6cf73-9f21-4d57-9281-d8eef6df7a4c",
   "metadata": {},
   "source": [
    "## Data Types\n",
    "Numeric (Integer, Float,Complex Number)\n",
    "Sequence Type (Strings, Tuple,List)\n",
    "Boolean\n",
    "Set\n",
    "Dictionary\n",
    "\n",
    "type() function checks the type of a data types"
   ]
  },
  {
   "cell_type": "code",
   "execution_count": 25,
   "id": "699ef993-dfee-4775-a038-c5bf66989948",
   "metadata": {},
   "outputs": [
    {
     "name": "stdout",
     "output_type": "stream",
     "text": [
      "Type of a:  <class 'int'>\n",
      "\n",
      "Type of b: <class 'float'>\n",
      "\n",
      " Type of c: <class 'complex'>\n"
     ]
    }
   ],
   "source": [
    "# Demonstrate numeric value\n",
    "\n",
    "a = 5\n",
    "print(\"Type of a: \",type(a))\n",
    "\n",
    "b = 5.0\n",
    "print(\"\\nType of b:\",type(b))\n",
    "\n",
    "c = 2 + 4j\n",
    "print(\"\\n Type of c:\",type(c))"
   ]
  },
  {
   "cell_type": "code",
   "execution_count": 35,
   "id": "f1110652-bbdc-4caa-8351-75eb2f2c7caf",
   "metadata": {},
   "outputs": [
    {
     "name": "stdout",
     "output_type": "stream",
     "text": [
      "I am learning python\n",
      "<class 'str'>\n",
      "Initial blank list:\n",
      "[]\n",
      "['Bishesh', 'Lal', 'Shrestha']\n",
      "Bishesh\n",
      "Shrestha\n",
      "((0, 1, 2, 3), ('Python', 'Fundamentals'))\n"
     ]
    }
   ],
   "source": [
    "## Sequnce Type\n",
    "\n",
    "#String\n",
    "string1 = \"I am learning python\"\n",
    "print(string1)\n",
    "print(type(string1))\n",
    "\n",
    "# List\n",
    "List = []\n",
    "print(\"Initial blank list:\")\n",
    "print(List)\n",
    "\n",
    "List1 = [\"Bishesh\",\"Lal\",\"Shrestha\"]\n",
    "print(List1)\n",
    "print(List1[0])\n",
    "print(List1[2])\n",
    "\n",
    "# Tuple\n",
    "Tuple1 = (0, 1, 2, 3) \n",
    "Tuple2 = ('Python', 'Fundamentals') \n",
    "Tuple3 = (Tuple1, Tuple2) \n",
    "print(Tuple3)\n"
   ]
  },
  {
   "cell_type": "code",
   "execution_count": 37,
   "id": "8eaa4d3c-2426-4981-889c-be191ef124ac",
   "metadata": {},
   "outputs": [
    {
     "name": "stdout",
     "output_type": "stream",
     "text": [
      "True\n",
      "False\n",
      "<class 'bool'>\n"
     ]
    }
   ],
   "source": [
    "# Boolean\n",
    "\n",
    "a = True\n",
    "b = True\n",
    "c = False\n",
    "print(a and b)\n",
    "print(a and c)\n",
    "print(type(b))"
   ]
  },
  {
   "cell_type": "code",
   "execution_count": 39,
   "id": "2c05eb0e-0a2a-4c31-9309-5b37c2c7a916",
   "metadata": {},
   "outputs": [
    {
     "name": "stdout",
     "output_type": "stream",
     "text": [
      "{1, 2, 3, 4, 'Shrestha', 'Bishesh'}\n"
     ]
    }
   ],
   "source": [
    "# Set\n",
    "set1 = set([1,2,'Bishesh',3,4,'Shrestha'])\n",
    "print(set1)"
   ]
  },
  {
   "cell_type": "code",
   "execution_count": 43,
   "id": "7a341a24-ef85-4a36-99a9-35a5031d11f7",
   "metadata": {},
   "outputs": [
    {
     "name": "stdout",
     "output_type": "stream",
     "text": [
      "Empty Dictionary\n",
      "{}\n",
      "{'name': 'Bishesh', 'course': 'python'}\n"
     ]
    }
   ],
   "source": [
    "# Dictionary\n",
    "Dict = {}\n",
    "print(\"Empty Dictionary\")\n",
    "print(Dict)\n",
    "\n",
    "Dict1 = {'name':'Bishesh','course':'python'}\n",
    "print(Dict1)"
   ]
  },
  {
   "cell_type": "markdown",
   "id": "20ed5647-7b1a-44d2-b5cd-61e8f17c602c",
   "metadata": {},
   "source": [
    "## Python Operators"
   ]
  },
  {
   "cell_type": "code",
   "execution_count": 5,
   "id": "b054b8bc-7fdb-4dd5-abd7-ee31b27c3134",
   "metadata": {},
   "outputs": [
    {
     "name": "stdout",
     "output_type": "stream",
     "text": [
      "15\n",
      "-5\n",
      "50\n",
      "0.5\n",
      "0\n",
      "5\n"
     ]
    }
   ],
   "source": [
    "# Arithmetic Operator \n",
    "a = 5\n",
    "b = 10\n",
    "   \n",
    "# Addition of numbers \n",
    "add = a + b \n",
    "# Subtraction of numbers  \n",
    "sub = a - b \n",
    "# Multiplication of number  \n",
    "mul = a * b \n",
    "# Division(float) of number  \n",
    "div1 = a / b \n",
    "# Division of number  \n",
    "div2 = a // b \n",
    "# Modulo of both number \n",
    "mod = a % b \n",
    "   \n",
    "\n",
    "print(add) \n",
    "print(sub) \n",
    "print(mul) \n",
    "print(div1) \n",
    "print(div2) \n",
    "print(mod)"
   ]
  },
  {
   "cell_type": "code",
   "execution_count": 9,
   "id": "6ca8c1d2-a94c-49dd-a2c1-2dcddb4d0a7e",
   "metadata": {},
   "outputs": [
    {
     "name": "stdout",
     "output_type": "stream",
     "text": [
      "False\n",
      "True\n",
      "False\n",
      "True\n",
      "False\n",
      "True\n"
     ]
    }
   ],
   "source": [
    "# Relational Operators \n",
    "a = 10\n",
    "b = 13\n",
    "   \n",
    "# a > b is False \n",
    "print(a > b) \n",
    "   \n",
    "# a < b is True \n",
    "print(a < b) \n",
    "   \n",
    "# a == b is False \n",
    "print(a == b) \n",
    "   \n",
    "# a != b is True \n",
    "print(a != b) \n",
    "   \n",
    "# a >= b is False \n",
    "print(a >= b) \n",
    "   \n",
    "# a <= b is True \n",
    "print(a <= b)"
   ]
  },
  {
   "cell_type": "code",
   "execution_count": 18,
   "id": "f3912944-451c-476c-9174-cbb29fcb3fda",
   "metadata": {},
   "outputs": [
    {
     "name": "stdout",
     "output_type": "stream",
     "text": [
      "False\n",
      "True\n",
      "False\n"
     ]
    }
   ],
   "source": [
    "# Logical Operator \n",
    "a = True\n",
    "b = False\n",
    "   \n",
    "# Print a and b is False \n",
    "print(a and b) \n",
    "   \n",
    "# Print a or b is True \n",
    "print(a or b) \n",
    "   \n",
    "# Print not a is False \n",
    "print(not a)"
   ]
  },
  {
   "cell_type": "markdown",
   "id": "0cdb35a2-c9d2-4576-b7b6-751837a21ed7",
   "metadata": {},
   "source": [
    "## Type Conversion"
   ]
  },
  {
   "cell_type": "code",
   "execution_count": 56,
   "id": "8a4c271e-d786-4b2f-a9cd-5a5d4b6a8fdf",
   "metadata": {},
   "outputs": [
    {
     "name": "stdout",
     "output_type": "stream",
     "text": [
      "x is a type of <class 'int'>\n",
      "y is a type of <class 'float'>\n",
      "z is a type of <class 'int'>\n"
     ]
    }
   ],
   "source": [
    "# Implicit Type Conversion\n",
    "'''\n",
    "In Implicit type conversion of data types in Python,\n",
    "the Python interpreter automatically converts one data type to another without any user involvement.\n",
    "'''\n",
    "x = 10\n",
    "print(\"x is a type of\",type(x))\n",
    "\n",
    "y = 10.8\n",
    "print(\"y is a type of\",type(y))\n",
    "\n",
    "z = a + b\n",
    "print(\"z is a type of\",type(z))"
   ]
  },
  {
   "cell_type": "code",
   "execution_count": 12,
   "id": "18c6d896-41ee-4098-ac6a-797c3e5cef83",
   "metadata": {},
   "outputs": [
    {
     "name": "stdout",
     "output_type": "stream",
     "text": [
      "10 <class 'str'>\n",
      "25 <class 'int'>\n"
     ]
    }
   ],
   "source": [
    "# Explicit conversion\n",
    "'''\n",
    "In Explicit Type Conversion in Python, the data type is manually changed by the user as per their requirement.\n",
    "With explicit type conversion, there is a risk of data loss since we are forcing an expression to be changed in some specific data type.\n",
    "'''\n",
    "\n",
    "num = 10\n",
    "num_str = str(num)\n",
    "print(num_str, type(num_str)) \n",
    "\n",
    "str1 = \"25\"\n",
    "str_num = int(str1)\n",
    "print(str_num, type(str_num))"
   ]
  },
  {
   "cell_type": "code",
   "execution_count": 20,
   "id": "615d4259-57c5-40a9-bb69-5fc899a11f1a",
   "metadata": {},
   "outputs": [
    {
     "name": "stdout",
     "output_type": "stream",
     "text": [
      "0\n",
      "15\n",
      "-6\n",
      "15\n",
      "1\n",
      "20\n"
     ]
    }
   ],
   "source": [
    "# Bitwise operators \n",
    "a = 5\n",
    "b = 10\n",
    "   \n",
    "# Print bitwise AND operation   \n",
    "print(a & b) \n",
    "   \n",
    "# Print bitwise OR operation \n",
    "print(a | b) \n",
    "   \n",
    "# Print bitwise NOT operation  \n",
    "print(~a) \n",
    "   \n",
    "# print bitwise XOR operation  \n",
    "print(a ^ b) \n",
    "   \n",
    "# print bitwise right shift operation  \n",
    "print(a >> 2) \n",
    "   \n",
    "# print bitwise left shift operation  \n",
    "print(a << 2)"
   ]
  },
  {
   "cell_type": "markdown",
   "id": "af79a6dc-ba0d-4484-aaca-f9c8d602f2b3",
   "metadata": {},
   "source": [
    "## Range Function\n",
    "range() function allows user to generate a series of numbers within a given range. Depending on how many arguments user is passing to the function."
   ]
  },
  {
   "cell_type": "code",
   "execution_count": 24,
   "id": "d0b3b064-0050-40d8-bbfe-60c0532c9d50",
   "metadata": {},
   "outputs": [
    {
     "name": "stdout",
     "output_type": "stream",
     "text": [
      "0\n",
      "1\n",
      "2\n",
      "3\n",
      "4\n",
      "5\n",
      "6\n",
      "7\n",
      "8\n",
      "9\n"
     ]
    }
   ],
   "source": [
    "for i in range(10):\n",
    "    print(i)"
   ]
  },
  {
   "cell_type": "code",
   "execution_count": 28,
   "id": "4a4866c8-f0e0-4d88-8e0c-72b1d8a30121",
   "metadata": {},
   "outputs": [
    {
     "name": "stdout",
     "output_type": "stream",
     "text": [
      "2\n",
      "3\n",
      "4\n",
      "5\n",
      "6\n",
      "7\n"
     ]
    }
   ],
   "source": [
    "for i in range(2,8):\n",
    "    print(i)"
   ]
  },
  {
   "cell_type": "markdown",
   "id": "6ae817c3-63f2-4d45-900f-0341a5b1e054",
   "metadata": {},
   "source": [
    "## Lambda Function\n",
    "Lambda functions in Python are anonymous functions that are defined using the lambda keyword. They are often used for short, simple operations where a full function definition would be excessive."
   ]
  },
  {
   "cell_type": "code",
   "execution_count": 36,
   "id": "4abc815d-d493-41b3-9a25-497af0ad03dd",
   "metadata": {},
   "outputs": [
    {
     "name": "stdout",
     "output_type": "stream",
     "text": [
      "20\n"
     ]
    }
   ],
   "source": [
    "# A lambda function to add 10 to a given number\n",
    "add_10 = lambda x: x + 10\n",
    "print(add_10(10))"
   ]
  },
  {
   "cell_type": "code",
   "execution_count": 38,
   "id": "072c1412-22db-425b-9751-1392ec0138a7",
   "metadata": {},
   "outputs": [
    {
     "name": "stdout",
     "output_type": "stream",
     "text": [
      "8\n"
     ]
    }
   ],
   "source": [
    "# Lambda function to add two numbers\n",
    "add = lambda x, y: x + y\n",
    "print(add(5, 3))"
   ]
  },
  {
   "cell_type": "code",
   "execution_count": 40,
   "id": "21740828-312a-4610-9c55-8c6821de02c9",
   "metadata": {},
   "outputs": [
    {
     "name": "stdout",
     "output_type": "stream",
     "text": [
      "[1, 4, 9, 16]\n"
     ]
    }
   ],
   "source": [
    "# Square each number in a list\n",
    "numbers = [1,2,3,4]\n",
    "square = list(map(lambda x: x**2,numbers))\n",
    "print(square)"
   ]
  },
  {
   "cell_type": "markdown",
   "id": "abec7847-3ec4-4f59-99af-6d5537146bd8",
   "metadata": {},
   "source": [
    "#  OOP Concept in Python"
   ]
  },
  {
   "cell_type": "markdown",
   "id": "2dc8bb92-9ea3-42c8-a0aa-6f2165cf1a97",
   "metadata": {},
   "source": [
    "##  Classes and Objects\n",
    "Class: A blueprint for creating objects.\n",
    "Object: A specific thing created from a class."
   ]
  },
  {
   "cell_type": "code",
   "execution_count": 48,
   "id": "3378b3dd-0903-48a1-ad40-0a7d07e26369",
   "metadata": {},
   "outputs": [
    {
     "name": "stdout",
     "output_type": "stream",
     "text": [
      "Bishesh\n",
      "23\n"
     ]
    }
   ],
   "source": [
    "\n",
    "class Person:\n",
    "    def __init__(self,name,age):\n",
    "        self.name = name\n",
    "        self.age = age\n",
    "\n",
    "p1 = Person('Bishesh',23)\n",
    "print(p1.name)\n",
    "print(p1.age)\n",
    "\n",
    "# Note: __init__() function is called automatically every time the class is being used to create a new object\n",
    "        "
   ]
  },
  {
   "cell_type": "code",
   "execution_count": 50,
   "id": "f631e7ae-db25-4745-aa36-8a542ca0fb0e",
   "metadata": {},
   "outputs": [
    {
     "name": "stdout",
     "output_type": "stream",
     "text": [
      "My name is Bishesh Lal Shrestha\n"
     ]
    }
   ],
   "source": [
    "class Person:\n",
    "    def __init__(self,name):\n",
    "        self.name = name\n",
    "\n",
    "    def printName(self):\n",
    "        print(f\"My name is {self.name}\")\n",
    "\n",
    "p1 = Person('Bishesh Lal Shrestha')\n",
    "p1.printName()\n",
    "\n",
    "#The self parameter is a reference to the current instance of the class, and is used to access variables that belong to the class."
   ]
  },
  {
   "cell_type": "markdown",
   "id": "12073141-ee11-4d2b-8f8d-943ba5fc9175",
   "metadata": {},
   "source": [
    "## Encapsulation\n",
    "Wrapping data (attributes) and methods (functions) together inside a class.\n",
    "You can restrict access to some parts of the data using private attributes (_ or __)."
   ]
  },
  {
   "cell_type": "code",
   "execution_count": 53,
   "id": "afed276a-f73c-44f7-95ed-f09b65a40f6d",
   "metadata": {},
   "outputs": [
    {
     "name": "stdout",
     "output_type": "stream",
     "text": [
      "3000\n",
      "1000\n"
     ]
    }
   ],
   "source": [
    "class BankAccount:\n",
    "    def __init__(self,balance):\n",
    "        self._balance= balance\n",
    "\n",
    "    def deposit(self,amount):\n",
    "        self._balance += amount\n",
    "\n",
    "    def withdraw(self,amount):\n",
    "        if amount <= self._balance:\n",
    "            self._balance -= amount\n",
    "        else:\n",
    "            print(\"Insufficient funds\")\n",
    "\n",
    "    def check_balance(self):\n",
    "        return self._balance\n",
    "\n",
    "account = BankAccount(1000)\n",
    "account.deposit(2000)\n",
    "print(account.check_balance()) \n",
    "account.withdraw(2000)\n",
    "print(account.check_balance()) "
   ]
  },
  {
   "cell_type": "markdown",
   "id": "0895e8c7-c03f-4795-ab53-2a64a2e15b60",
   "metadata": {},
   "source": [
    "## Inheritance\n",
    "A class can inherit attributes and methods from another class (like passing down traits in a family)."
   ]
  },
  {
   "cell_type": "code",
   "execution_count": 58,
   "id": "a47c5848-972f-44f7-a417-6bddf5cfe244",
   "metadata": {},
   "outputs": [
    {
     "name": "stdout",
     "output_type": "stream",
     "text": [
      "Dog barks\n"
     ]
    }
   ],
   "source": [
    "class Animal:\n",
    "    def sound(self):\n",
    "        print(\"All animal make different sound\")\n",
    "\n",
    "class Dog(Animal):\n",
    "    def sound(self):\n",
    "        print(\"Dog barks\")\n",
    "        \n",
    "dog = Dog()\n",
    "dog.sound()"
   ]
  },
  {
   "cell_type": "markdown",
   "id": "e23065e4-6d56-4171-bc24-369fc106989e",
   "metadata": {},
   "source": [
    "## Polymorphism\n",
    "An object can behave differently depending on the context."
   ]
  },
  {
   "cell_type": "code",
   "execution_count": 63,
   "id": "abe39959-e397-4ab5-beb3-18f3a2bee7e3",
   "metadata": {},
   "outputs": [
    {
     "name": "stdout",
     "output_type": "stream",
     "text": [
      "Birds can fly\n",
      "Penguins cannot fly\n"
     ]
    }
   ],
   "source": [
    "class Bird:\n",
    "    def fly(self):\n",
    "        print(\"Birds can fly\")\n",
    "\n",
    "class Penguin(Bird):\n",
    "    def fly(self):\n",
    "        print(\"Penguins cannot fly\")\n",
    "\n",
    "bird = Bird()\n",
    "penguin = Penguin()\n",
    "\n",
    "bird.fly()       \n",
    "penguin.fly()"
   ]
  },
  {
   "cell_type": "markdown",
   "id": "a144f952-835b-4ce5-9b94-18036f40ba60",
   "metadata": {},
   "source": [
    "## Abstraction\n",
    "Hiding complex details and only showing what’s necessary."
   ]
  },
  {
   "cell_type": "code",
   "execution_count": 66,
   "id": "3812ddb3-5fcd-4f44-a1a3-f93369451bd4",
   "metadata": {},
   "outputs": [
    {
     "name": "stdout",
     "output_type": "stream",
     "text": [
      "Dog: Woof Woof!\n",
      "Cat: Meow!\n"
     ]
    }
   ],
   "source": [
    "from abc import ABC, abstractmethod\n",
    "\n",
    "class Animal(ABC):\n",
    "    @abstractmethod\n",
    "    def make_sound(self):\n",
    "        pass\n",
    "\n",
    "class Dog(Animal):\n",
    "    def make_sound(self):\n",
    "        return \"Woof Woof!\"\n",
    "\n",
    "class Cat(Animal):\n",
    "    def make_sound(self):\n",
    "        return \"Meow!\"\n",
    "\n",
    "dog = Dog()\n",
    "cat = Cat()\n",
    "\n",
    "print(\"Dog:\", dog.make_sound())  \n",
    "print(\"Cat:\", cat.make_sound())"
   ]
  },
  {
   "cell_type": "code",
   "execution_count": null,
   "id": "2a58b16c-20f5-4b6c-b7bf-54eb735a57c2",
   "metadata": {},
   "outputs": [],
   "source": []
  }
 ],
 "metadata": {
  "kernelspec": {
   "display_name": "Python [conda env:base] *",
   "language": "python",
   "name": "conda-base-py"
  },
  "language_info": {
   "codemirror_mode": {
    "name": "ipython",
    "version": 3
   },
   "file_extension": ".py",
   "mimetype": "text/x-python",
   "name": "python",
   "nbconvert_exporter": "python",
   "pygments_lexer": "ipython3",
   "version": "3.12.7"
  }
 },
 "nbformat": 4,
 "nbformat_minor": 5
}
