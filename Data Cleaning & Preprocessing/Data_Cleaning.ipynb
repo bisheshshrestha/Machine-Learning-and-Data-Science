{
 "cells": [
  {
   "cell_type": "code",
   "execution_count": 92,
   "id": "50d5f3d8-39c8-4640-93bd-c50e6026caeb",
   "metadata": {},
   "outputs": [],
   "source": [
    "import numpy as np\n",
    "import pandas as pd\n",
    "import matplotlib.pyplot as plt\n",
    "import seaborn as sns"
   ]
  },
  {
   "cell_type": "code",
   "execution_count": 4,
   "id": "95dbc759-8fa7-4825-9b22-434934248563",
   "metadata": {},
   "outputs": [],
   "source": [
    "df = pd.read_csv('Data_Sets/laptop_purchase.csv')"
   ]
  },
  {
   "cell_type": "code",
   "execution_count": 6,
   "id": "048175de-7f0b-4d77-8b1a-a7244f0001e0",
   "metadata": {},
   "outputs": [
    {
     "data": {
      "text/html": [
       "<div>\n",
       "<style scoped>\n",
       "    .dataframe tbody tr th:only-of-type {\n",
       "        vertical-align: middle;\n",
       "    }\n",
       "\n",
       "    .dataframe tbody tr th {\n",
       "        vertical-align: top;\n",
       "    }\n",
       "\n",
       "    .dataframe thead th {\n",
       "        text-align: right;\n",
       "    }\n",
       "</style>\n",
       "<table border=\"1\" class=\"dataframe\">\n",
       "  <thead>\n",
       "    <tr style=\"text-align: right;\">\n",
       "      <th></th>\n",
       "      <th>Customer_ID</th>\n",
       "      <th>Age</th>\n",
       "      <th>Gender</th>\n",
       "      <th>City</th>\n",
       "      <th>Income_Level</th>\n",
       "      <th>Purchase_Mode</th>\n",
       "      <th>Brand_Purchased</th>\n",
       "      <th>Price_Range</th>\n",
       "      <th>Payment_Mode</th>\n",
       "      <th>Purchase_Frequency</th>\n",
       "      <th>Satisfaction_Rating</th>\n",
       "    </tr>\n",
       "  </thead>\n",
       "  <tbody>\n",
       "    <tr>\n",
       "      <th>0</th>\n",
       "      <td>CUST00001</td>\n",
       "      <td>56</td>\n",
       "      <td>Male</td>\n",
       "      <td>Pune</td>\n",
       "      <td>Low</td>\n",
       "      <td>Online</td>\n",
       "      <td>Dell</td>\n",
       "      <td>30K-50K</td>\n",
       "      <td>UPI</td>\n",
       "      <td>Rare</td>\n",
       "      <td>4</td>\n",
       "    </tr>\n",
       "    <tr>\n",
       "      <th>1</th>\n",
       "      <td>CUST00002</td>\n",
       "      <td>46</td>\n",
       "      <td>Female</td>\n",
       "      <td>Kolkata</td>\n",
       "      <td>Medium</td>\n",
       "      <td>Online</td>\n",
       "      <td>MSI</td>\n",
       "      <td>Below 30K</td>\n",
       "      <td>Cash</td>\n",
       "      <td>Occasional</td>\n",
       "      <td>2</td>\n",
       "    </tr>\n",
       "    <tr>\n",
       "      <th>2</th>\n",
       "      <td>CUST00003</td>\n",
       "      <td>32</td>\n",
       "      <td>Male</td>\n",
       "      <td>Bangalore</td>\n",
       "      <td>Low</td>\n",
       "      <td>Online</td>\n",
       "      <td>Samsung</td>\n",
       "      <td>80K-1.2L</td>\n",
       "      <td>UPI</td>\n",
       "      <td>Occasional</td>\n",
       "      <td>3</td>\n",
       "    </tr>\n",
       "    <tr>\n",
       "      <th>3</th>\n",
       "      <td>CUST00004</td>\n",
       "      <td>25</td>\n",
       "      <td>Female</td>\n",
       "      <td>Jaipur</td>\n",
       "      <td>Medium</td>\n",
       "      <td>Offline</td>\n",
       "      <td>Samsung</td>\n",
       "      <td>Below 30K</td>\n",
       "      <td>Credit Card</td>\n",
       "      <td>Rare</td>\n",
       "      <td>4</td>\n",
       "    </tr>\n",
       "    <tr>\n",
       "      <th>4</th>\n",
       "      <td>CUST00005</td>\n",
       "      <td>38</td>\n",
       "      <td>Female</td>\n",
       "      <td>Pune</td>\n",
       "      <td>High</td>\n",
       "      <td>Online</td>\n",
       "      <td>MSI</td>\n",
       "      <td>80K-1.2L</td>\n",
       "      <td>Cash</td>\n",
       "      <td>Rare</td>\n",
       "      <td>3</td>\n",
       "    </tr>\n",
       "  </tbody>\n",
       "</table>\n",
       "</div>"
      ],
      "text/plain": [
       "  Customer_ID  Age  Gender       City Income_Level Purchase_Mode  \\\n",
       "0   CUST00001   56    Male       Pune          Low        Online   \n",
       "1   CUST00002   46  Female    Kolkata       Medium        Online   \n",
       "2   CUST00003   32    Male  Bangalore          Low        Online   \n",
       "3   CUST00004   25  Female     Jaipur       Medium       Offline   \n",
       "4   CUST00005   38  Female       Pune         High        Online   \n",
       "\n",
       "  Brand_Purchased Price_Range Payment_Mode Purchase_Frequency  \\\n",
       "0            Dell     30K-50K          UPI               Rare   \n",
       "1             MSI   Below 30K         Cash         Occasional   \n",
       "2         Samsung    80K-1.2L          UPI         Occasional   \n",
       "3         Samsung   Below 30K  Credit Card               Rare   \n",
       "4             MSI    80K-1.2L         Cash               Rare   \n",
       "\n",
       "   Satisfaction_Rating  \n",
       "0                    4  \n",
       "1                    2  \n",
       "2                    3  \n",
       "3                    4  \n",
       "4                    3  "
      ]
     },
     "execution_count": 6,
     "metadata": {},
     "output_type": "execute_result"
    }
   ],
   "source": [
    "df.head()"
   ]
  },
  {
   "cell_type": "markdown",
   "id": "756a4652-ce60-40c7-be3c-b17fb8758e83",
   "metadata": {},
   "source": [
    "## Check for missing values"
   ]
  },
  {
   "cell_type": "code",
   "execution_count": 23,
   "id": "022e80c5-a688-4f3b-9786-5c9d34299aee",
   "metadata": {},
   "outputs": [
    {
     "data": {
      "text/plain": [
       "Customer_ID            0\n",
       "Age                    0\n",
       "Gender                 0\n",
       "City                   0\n",
       "Income_Level           0\n",
       "Purchase_Mode          0\n",
       "Brand_Purchased        0\n",
       "Price_Range            0\n",
       "Payment_Mode           0\n",
       "Purchase_Frequency     0\n",
       "Satisfaction_Rating    0\n",
       "dtype: int64"
      ]
     },
     "execution_count": 23,
     "metadata": {},
     "output_type": "execute_result"
    }
   ],
   "source": [
    "df.isnull().sum()"
   ]
  },
  {
   "cell_type": "code",
   "execution_count": 48,
   "id": "536209d6-1c0c-49df-9b2d-46eebe6c7b32",
   "metadata": {},
   "outputs": [
    {
     "name": "stdout",
     "output_type": "stream",
     "text": [
      "<class 'pandas.core.frame.DataFrame'>\n",
      "RangeIndex: 5000 entries, 0 to 4999\n",
      "Data columns (total 11 columns):\n",
      " #   Column               Non-Null Count  Dtype \n",
      "---  ------               --------------  ----- \n",
      " 0   Customer_ID          5000 non-null   object\n",
      " 1   Age                  5000 non-null   int64 \n",
      " 2   Gender               5000 non-null   object\n",
      " 3   City                 5000 non-null   object\n",
      " 4   Income_Level         5000 non-null   object\n",
      " 5   Purchase_Mode        5000 non-null   object\n",
      " 6   Brand_Purchased      5000 non-null   object\n",
      " 7   Price_Range          5000 non-null   object\n",
      " 8   Payment_Mode         5000 non-null   object\n",
      " 9   Purchase_Frequency   5000 non-null   object\n",
      " 10  Satisfaction_Rating  5000 non-null   int64 \n",
      "dtypes: int64(2), object(9)\n",
      "memory usage: 429.8+ KB\n"
     ]
    }
   ],
   "source": [
    "df.info()"
   ]
  },
  {
   "cell_type": "code",
   "execution_count": 28,
   "id": "f1ab8b01-3aae-4152-a705-6028f1ecd8ed",
   "metadata": {},
   "outputs": [
    {
     "data": {
      "text/plain": [
       "(5000, 11)"
      ]
     },
     "execution_count": 28,
     "metadata": {},
     "output_type": "execute_result"
    }
   ],
   "source": [
    "df.shape"
   ]
  },
  {
   "cell_type": "markdown",
   "id": "531b39cb-98d8-4e2e-aa2b-5432a6019b3d",
   "metadata": {},
   "source": [
    "## Checking for duplicate values"
   ]
  },
  {
   "cell_type": "code",
   "execution_count": 39,
   "id": "78e1547b-4609-4bd1-b6dd-87b89b282600",
   "metadata": {},
   "outputs": [
    {
     "name": "stdout",
     "output_type": "stream",
     "text": [
      "Number of duplicate rows: 0\n"
     ]
    }
   ],
   "source": [
    "duplicates = df.duplicated().sum()\n",
    "print(f\"Number of duplicate rows: {duplicates}\")"
   ]
  },
  {
   "cell_type": "markdown",
   "id": "782d08e3-2991-435e-a624-a458e51a969e",
   "metadata": {},
   "source": [
    "## Checking outliers"
   ]
  },
  {
   "cell_type": "code",
   "execution_count": 44,
   "id": "1fb9792b-2c14-408d-a2c3-63a2b2802fbf",
   "metadata": {},
   "outputs": [
    {
     "name": "stdout",
     "output_type": "stream",
     "text": [
      "Index(['Age', 'Satisfaction_Rating'], dtype='object')\n",
      "Index(['Customer_ID', 'Gender', 'City', 'Income_Level', 'Purchase_Mode',\n",
      "       'Brand_Purchased', 'Price_Range', 'Payment_Mode', 'Purchase_Frequency'],\n",
      "      dtype='object')\n"
     ]
    }
   ],
   "source": [
    "numeric_columns = df.select_dtypes(include=['float64','int64']).columns\n",
    "categorical_columns = df.select_dtypes(include=['object','category']).columns\n",
    "\n",
    "print(numeric_columns)\n",
    "print(categorical_columns)\n"
   ]
  },
  {
   "cell_type": "code",
   "execution_count": 46,
   "id": "dd441cca-381c-4a08-890d-c96a5e85b928",
   "metadata": {},
   "outputs": [
    {
     "data": {
      "image/png": "[encoded data removed]",
      "text/plain": [
       "<Figure size 600x400 with 1 Axes>"
      ]
     },
     "metadata": {},
     "output_type": "display_data"
    },
    {
     "data": {
      "image/png": "[encoded data removed]",
      "text/plain": [
       "<Figure size 600x400 with 1 Axes>"
      ]
     },
     "metadata": {},
     "output_type": "display_data"
    }
   ],
   "source": [
    "for col in numeric_columns:\n",
    "    plt.figure(figsize=(6, 4))\n",
    "    df.boxplot(column=[col])\n",
    "    plt.title(f'Boxplot for {col}')\n",
    "    plt.show()"
   ]
  },
  {
   "cell_type": "markdown",
   "id": "d785a57f-9391-4c6f-b0bd-d9abec57e929",
   "metadata": {},
   "source": [
    "## Check DataType"
   ]
  },
  {
   "cell_type": "code",
   "execution_count": 55,
   "id": "f4268745-5fda-483d-88b7-3d917d72115a",
   "metadata": {},
   "outputs": [
    {
     "data": {
      "text/plain": [
       "Customer_ID            object\n",
       "Age                     int64\n",
       "Gender                 object\n",
       "City                   object\n",
       "Income_Level           object\n",
       "Purchase_Mode          object\n",
       "Brand_Purchased        object\n",
       "Price_Range            object\n",
       "Payment_Mode           object\n",
       "Purchase_Frequency     object\n",
       "Satisfaction_Rating     int64\n",
       "dtype: object"
      ]
     },
     "execution_count": 55,
     "metadata": {},
     "output_type": "execute_result"
    }
   ],
   "source": [
    "df.dtypes"
   ]
  },
  {
   "cell_type": "code",
   "execution_count": 61,
   "id": "e37f7fc2-1a19-4e17-bfed-009a9257266e",
   "metadata": {},
   "outputs": [
    {
     "name": "stdout",
     "output_type": "stream",
     "text": [
      "0       56\n",
      "1       46\n",
      "2       32\n",
      "3       25\n",
      "4       38\n",
      "        ..\n",
      "4995    32\n",
      "4996    36\n",
      "4997    52\n",
      "4998    34\n",
      "4999    52\n",
      "Name: Age, Length: 5000, dtype: int64\n"
     ]
    }
   ],
   "source": [
    "print(df['Age'])"
   ]
  },
  {
   "cell_type": "markdown",
   "id": "0475cf42-b30e-40e2-8f87-7eb376615779",
   "metadata": {},
   "source": [
    "## Checking for Data Inconsistencies"
   ]
  },
  {
   "cell_type": "code",
   "execution_count": 64,
   "id": "4aa0cbc3-eefd-4da9-a1cd-5f13f2554d54",
   "metadata": {},
   "outputs": [
    {
     "name": "stdout",
     "output_type": "stream",
     "text": [
      "[56 46 32 25 38 36 40 28 41 53 57 20 39 19 47 55 50 29 42 44 59 45 33 54\n",
      " 24 26 35 21 31 43 37 52 34 23 51 27 48 58 18 22 30 49]\n"
     ]
    }
   ],
   "source": [
    "print(df['Age'].unique())"
   ]
  },
  {
   "cell_type": "code",
   "execution_count": 66,
   "id": "6aad9882-c1b1-49f7-a6d9-ef8133afab91",
   "metadata": {},
   "outputs": [
    {
     "name": "stdout",
     "output_type": "stream",
     "text": [
      "['Male' 'Female']\n"
     ]
    }
   ],
   "source": [
    "print(df['Gender'].unique())"
   ]
  },
  {
   "cell_type": "raw",
   "id": "44b7554a-c5b8-4119-8bd4-413260100024",
   "metadata": {},
   "source": [
    "## df['Gender'] = df['Gender'].replace({'M':'Male','F':'Female'})"
   ]
  },
  {
   "cell_type": "markdown",
   "id": "22d96e15-0992-48b3-b0cc-af4d472dc633",
   "metadata": {},
   "source": [
    "## Checking Price range column in numerical or categorical"
   ]
  },
  {
   "cell_type": "code",
   "execution_count": 69,
   "id": "8dde1962-946f-4513-8e7a-2c6634423689",
   "metadata": {},
   "outputs": [
    {
     "data": {
      "text/plain": [
       "dtype('O')"
      ]
     },
     "execution_count": 69,
     "metadata": {},
     "output_type": "execute_result"
    }
   ],
   "source": [
    "df['Price_Range'].dtype"
   ]
  },
  {
   "cell_type": "code",
   "execution_count": 77,
   "id": "f2a787e4-0747-4683-9193-6928832ed562",
   "metadata": {},
   "outputs": [
    {
     "data": {
      "text/plain": [
       "Price_Range\n",
       "30K-50K       1768\n",
       "50K-80K       1498\n",
       "Below 30K      777\n",
       "80K-1.2L       729\n",
       "Above 1.2L     228\n",
       "Name: count, dtype: int64"
      ]
     },
     "execution_count": 77,
     "metadata": {},
     "output_type": "execute_result"
    }
   ],
   "source": [
    "df['Price_Range'].value_counts()"
   ]
  },
  {
   "cell_type": "code",
   "execution_count": 79,
   "id": "6429df93-0196-4d6f-a98b-b3f2174f7524",
   "metadata": {},
   "outputs": [
    {
     "name": "stdout",
     "output_type": "stream",
     "text": [
      "Encoded Data:\n",
      "  Customer_ID  Age  Gender       City Income_Level Purchase_Mode  \\\n",
      "0   CUST00001   56    Male       Pune          Low        Online   \n",
      "1   CUST00002   46  Female    Kolkata       Medium        Online   \n",
      "2   CUST00003   32    Male  Bangalore          Low        Online   \n",
      "3   CUST00004   25  Female     Jaipur       Medium       Offline   \n",
      "4   CUST00005   38  Female       Pune         High        Online   \n",
      "\n",
      "  Brand_Purchased Payment_Mode Purchase_Frequency  Satisfaction_Rating  \\\n",
      "0            Dell          UPI               Rare                    4   \n",
      "1             MSI         Cash         Occasional                    2   \n",
      "2         Samsung          UPI         Occasional                    3   \n",
      "3         Samsung  Credit Card               Rare                    4   \n",
      "4             MSI         Cash               Rare                    3   \n",
      "\n",
      "   Price_Range_30K-50K  Price_Range_50K-80K  Price_Range_80K-1.2L  \\\n",
      "0                 True                False                 False   \n",
      "1                False                False                 False   \n",
      "2                False                False                  True   \n",
      "3                False                False                 False   \n",
      "4                False                False                  True   \n",
      "\n",
      "   Price_Range_Above 1.2L  Price_Range_Below 30K  \n",
      "0                   False                  False  \n",
      "1                   False                   True  \n",
      "2                   False                  False  \n",
      "3                   False                   True  \n",
      "4                   False                  False  \n"
     ]
    }
   ],
   "source": [
    "encoded_data = pd.get_dummies(df,columns=['Price_Range'])\n",
    "print('Encoded Data:')\n",
    "print(encoded_data.head())"
   ]
  },
  {
   "cell_type": "markdown",
   "id": "94117e4c-5051-45b8-83d9-2c7ff57f80a4",
   "metadata": {},
   "source": [
    "## Purchase Frequency"
   ]
  },
  {
   "cell_type": "code",
   "execution_count": 84,
   "id": "d8b507c4-da15-460e-a7cb-b22237a77f46",
   "metadata": {},
   "outputs": [
    {
     "data": {
      "text/plain": [
       "array(['Rare', 'Occasional', 'Frequent'], dtype=object)"
      ]
     },
     "execution_count": 84,
     "metadata": {},
     "output_type": "execute_result"
    }
   ],
   "source": [
    "df['Purchase_Frequency'].unique()"
   ]
  },
  {
   "cell_type": "markdown",
   "id": "d61ccaa4-ffc2-43bb-a038-11f85a751964",
   "metadata": {},
   "source": [
    "## Skewness"
   ]
  },
  {
   "cell_type": "code",
   "execution_count": 87,
   "id": "65600d4c-531e-4605-beb6-9092f935d611",
   "metadata": {},
   "outputs": [
    {
     "name": "stdout",
     "output_type": "stream",
     "text": [
      "Skewness of Age: -0.02983117302667299\n"
     ]
    }
   ],
   "source": [
    "skewness_age = df['Age'].skew()\n",
    "print(f\"Skewness of Age: {skewness_age}\")"
   ]
  },
  {
   "cell_type": "markdown",
   "id": "65ae6d83-8f96-4d1b-a52e-5141e664ffb3",
   "metadata": {},
   "source": [
    "## Histogram"
   ]
  },
  {
   "cell_type": "code",
   "execution_count": 90,
   "id": "1587705b-e938-480b-a813-1e40bd4d5e6a",
   "metadata": {},
   "outputs": [
    {
     "data": {
      "image/png": "[encoded data removed]",
      "text/plain": [
       "<Figure size 1000x800 with 1 Axes>"
      ]
     },
     "metadata": {},
     "output_type": "display_data"
    }
   ],
   "source": [
    "plt.figure(figsize=(10,8))\n",
    "plt.hist(df['Age'])\n",
    "plt.title('Histogram of Age')\n",
    "plt.xlabel('Age')\n",
    "plt.ylabel('Frequency')\n",
    "plt.show()"
   ]
  },
  {
   "cell_type": "code",
   "execution_count": null,
   "id": "a761bb85-b424-4b13-8466-e001e93dec42",
   "metadata": {},
   "outputs": [],
   "source": []
  }
 ],
 "metadata": {
  "kernelspec": {
   "display_name": "Python [conda env:base] *",
   "language": "python",
   "name": "conda-base-py"
  },
  "language_info": {
   "codemirror_mode": {
    "name": "ipython",
    "version": 3
   },
   "file_extension": ".py",
   "mimetype": "text/x-python",
   "name": "python",
   "nbconvert_exporter": "python",
   "pygments_lexer": "ipython3",
   "version": "3.12.7"
  }
 },
 "nbformat": 4,
 "nbformat_minor": 5
}
