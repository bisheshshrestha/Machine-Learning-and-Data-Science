{
 "cells": [
  {
   "cell_type": "markdown",
   "id": "18dbdee7-d794-4ff8-a992-bbe6eb34ffea",
   "metadata": {},
   "source": [
    "# Working with Numpy library"
   ]
  },
  {
   "cell_type": "code",
   "execution_count": 107,
   "id": "e6cec1b5-cab7-407d-a819-ff07322adcee",
   "metadata": {},
   "outputs": [],
   "source": [
    "import numpy as np"
   ]
  },
  {
   "cell_type": "markdown",
   "id": "3eeae2a8-7607-45a0-bbad-e4fe55553de6",
   "metadata": {},
   "source": [
    "## Numpy Array Creation"
   ]
  },
  {
   "cell_type": "code",
   "execution_count": 7,
   "id": "6e32fa38-998a-4c59-b331-f699fc28449f",
   "metadata": {},
   "outputs": [
    {
     "name": "stdout",
     "output_type": "stream",
     "text": [
      "[ 2  4  6  8 10]\n"
     ]
    }
   ],
   "source": [
    "list1 = [2,4,6,8,10]\n",
    "arr1 = np.array(list1)\n",
    "\n",
    "print(arr1)"
   ]
  },
  {
   "cell_type": "markdown",
   "id": "48e84338-693a-456a-9204-003b8496f922",
   "metadata": {},
   "source": [
    "## Create an Array Using np.zeros()\n",
    "The np.zeros() function allows us to create an array filled with all zeros"
   ]
  },
  {
   "cell_type": "code",
   "execution_count": 10,
   "id": "986ba929-d1df-4383-a773-6916d5f83b2a",
   "metadata": {},
   "outputs": [
    {
     "name": "stdout",
     "output_type": "stream",
     "text": [
      "[0. 0. 0. 0. 0.]\n"
     ]
    }
   ],
   "source": [
    "array1 = np.zeros(5)\n",
    "print(array1)"
   ]
  },
  {
   "cell_type": "markdown",
   "id": "59579ab2-f090-4208-b16b-61d7699613a8",
   "metadata": {},
   "source": [
    "## Create an Array With np.arange()\n",
    "The np.arange() function returns an array with values within a specified interval."
   ]
  },
  {
   "cell_type": "code",
   "execution_count": 13,
   "id": "c55eca2d-6c06-4134-b416-e7184bb98407",
   "metadata": {},
   "outputs": [
    {
     "name": "stdout",
     "output_type": "stream",
     "text": [
      "[0 1 2 3 4]\n",
      "[1 3 5 7]\n"
     ]
    }
   ],
   "source": [
    "# Create a array from with the values from O to 4\n",
    "array2 = np.arange(5)\n",
    "print(array2)\n",
    "\n",
    "# Create an array with values from 1 to 8 with a step of 2\n",
    "array3 = np.arange(1,9,2)\n",
    "print(array3)"
   ]
  },
  {
   "cell_type": "markdown",
   "id": "a249aeda-5e5e-4be4-b026-47d9e49d48f5",
   "metadata": {},
   "source": [
    "## NumPy N-D Array Creation\n",
    "NumPy is not restricted to 1-D arrays, it can have arrays of multiple dimensions, also known as N-dimensional arrays or ndarrays."
   ]
  },
  {
   "cell_type": "code",
   "execution_count": 17,
   "id": "602e7385-caec-4b3b-b76b-6f3a60e64564",
   "metadata": {},
   "outputs": [
    {
     "name": "stdout",
     "output_type": "stream",
     "text": [
      "[[1 2 3 4]\n",
      " [5 6 7 8]]\n"
     ]
    }
   ],
   "source": [
    "# Create a 2-D NumPy Array\n",
    "\n",
    "array1 = np.array([[1,2,3,4],\n",
    "                  [5,6,7,8]])\n",
    "print(array1)"
   ]
  },
  {
   "cell_type": "code",
   "execution_count": 19,
   "id": "1cfc4165-0967-41e9-8e47-72d018516132",
   "metadata": {},
   "outputs": [
    {
     "name": "stdout",
     "output_type": "stream",
     "text": [
      "[[[ 1  2  3  4]\n",
      "  [ 5  6  7  8]\n",
      "  [ 9 10 11 12]]\n",
      "\n",
      " [[13 14 15 16]\n",
      "  [17 18 19 20]\n",
      "  [21 22 23 24]]]\n"
     ]
    }
   ],
   "source": [
    "# Create a 3-D NumPy Array\n",
    "\n",
    "array2 = np.array([[[1, 2, 3, 4],\n",
    "                [5, 6, 7, 8], \n",
    "                [9, 10, 11, 12]],\n",
    "                     \n",
    "                [[13, 14, 15, 16], \n",
    "                 [17, 18, 19, 20], \n",
    "                 [21, 22, 23, 24]]])\n",
    "print(array2)"
   ]
  },
  {
   "cell_type": "markdown",
   "id": "1e77f5a0-0585-45a5-a221-3c028eeaca7a",
   "metadata": {},
   "source": [
    "## Array Indexing\n",
    "Array indexing is the same as accessing an array element.\n",
    "\n",
    "You can access an array element by referring to its index number.\n",
    "\n",
    "The indexes in NumPy arrays start with 0, meaning that the first element has index 0, and the second has index 1 etc."
   ]
  },
  {
   "cell_type": "code",
   "execution_count": 8,
   "id": "8fa939e4-e3c4-4d4d-a757-d94ba62bf00c",
   "metadata": {},
   "outputs": [
    {
     "name": "stdout",
     "output_type": "stream",
     "text": [
      "6\n"
     ]
    }
   ],
   "source": [
    "ar =  np.array(\n",
    "    [\n",
    "        [1,3],\n",
    "        [5,6]\n",
    "    ]\n",
    ")\n",
    "print(ar[1][1])\n"
   ]
  },
  {
   "cell_type": "markdown",
   "id": "90bff4d3-3a3e-4c1c-93b9-5ea6bde062a3",
   "metadata": {},
   "source": [
    "## Array Slicing\n",
    "Slicing arrays\n",
    "Slicing in python means taking elements from one given index to another given index.\n",
    "\n",
    "We pass slice instead of index like this: [start:end].\n",
    "\n",
    "We can also define the step, like this: [start:end:step].\n",
    "\n",
    "If we don't pass start its considered 0\n",
    "\n",
    "If we don't pass end its considered length of array in that dimension\n",
    "\n",
    "If we don't pass step its considered 1"
   ]
  },
  {
   "cell_type": "code",
   "execution_count": 11,
   "id": "3309f112-044d-4c92-8320-7f96598420b8",
   "metadata": {},
   "outputs": [
    {
     "name": "stdout",
     "output_type": "stream",
     "text": [
      "[10  2  5  4  8  6  7  9]\n"
     ]
    }
   ],
   "source": [
    "ar1 = np.array([10,2,5,4,8,6,7,9,5,22,66,7])\n",
    "print(ar1[0:8])"
   ]
  },
  {
   "cell_type": "code",
   "execution_count": 20,
   "id": "1d44da13-a794-43e9-94e7-b9fea5d6f747",
   "metadata": {},
   "outputs": [
    {
     "name": "stdout",
     "output_type": "stream",
     "text": [
      "[10  2  5  4  8]\n",
      "[ 5  4  8  6  7  9  5 22 66  7]\n",
      "[10  5  8  7]\n"
     ]
    }
   ],
   "source": [
    "ar1 = np.array([10,2,5,4,8,6,7,9,5,22,66,7])\n",
    "print(ar1[:5]) # Starting to 5 element\n",
    "print(ar1[2:]) # Starting from 2 to last element\n",
    "print(ar1[0:8:2]) # Starting from 0 to 8 elemement with 2 gaps"
   ]
  },
  {
   "cell_type": "markdown",
   "id": "33887910-de18-4cbe-9bd4-9ef418159c21",
   "metadata": {},
   "source": [
    "## N-D Array"
   ]
  },
  {
   "cell_type": "code",
   "execution_count": 34,
   "id": "45309940-4bcb-4beb-991b-e3de908259b1",
   "metadata": {},
   "outputs": [
    {
     "name": "stdout",
     "output_type": "stream",
     "text": [
      "(2, 4)\n",
      "8\n",
      "4\n",
      "36\n",
      "4.5\n"
     ]
    }
   ],
   "source": [
    "ar = np.array([[2,4,5,6,],[3,6,9,1]])\n",
    "print(ar.shape)\n",
    "print(ar.size)\n",
    "print(ar.itemsize)\n",
    "print(ar.sum())\n",
    "print(ar.mean())"
   ]
  },
  {
   "cell_type": "markdown",
   "id": "ec5b39f0-468c-4119-af85-1ac7d5b4f1c1",
   "metadata": {},
   "source": [
    "## Data Types in NumPy\n",
    "strings - used to represent text data, the text is given under quote marks. e.g. \"ABCD\"\n",
    "\n",
    "integer - used to represent integer numbers. e.g. -1, -2, -3\n",
    "\n",
    "float - used to represent real numbers. e.g. 1.2, 42.42\n",
    "\n",
    "boolean - used to represent True or False.\n",
    "\n",
    "complex - used to represent complex numbers. e.g. 1.0 + 2.0j, 1.5 + 2.5j\n",
    "\n",
    "Note:Below is a list of all data types in NumPy and the characters used to represent them.\n",
    "\n",
    "i - integer\n",
    "\n",
    "b - boolean \n",
    "\n",
    "u - unsigned integer\n",
    "\n",
    "f - float\n",
    "\n",
    "c - complex float\n",
    "\n",
    "m - timedelta\n",
    "\n",
    "M - datetime\n",
    "\n",
    "O - object\n",
    "\n",
    "S - string\n",
    "\n",
    "U - unicode string\n",
    "\n",
    "V - fixed chunk of memory for other type ( void )\n"
   ]
  },
  {
   "cell_type": "code",
   "execution_count": 39,
   "id": "a8c74637-8f3f-4e81-a9ab-8a1b895f6ccd",
   "metadata": {},
   "outputs": [
    {
     "name": "stdout",
     "output_type": "stream",
     "text": [
      "int32\n"
     ]
    }
   ],
   "source": [
    "arr = np.array([1,2,3,4])\n",
    "print(arr.dtype)"
   ]
  },
  {
   "cell_type": "code",
   "execution_count": 47,
   "id": "49cafde6-ab72-4ed7-be66-5e913f8455d8",
   "metadata": {},
   "outputs": [
    {
     "name": "stdout",
     "output_type": "stream",
     "text": [
      "<U6\n"
     ]
    }
   ],
   "source": [
    "arr = np.array(['apple', 'banana', 'mango'],dtype=np.str_)\n",
    "\n",
    "print(arr.dtype)"
   ]
  },
  {
   "cell_type": "code",
   "execution_count": 49,
   "id": "5f4a1cfb-e706-4469-991c-3f253d349bff",
   "metadata": {},
   "outputs": [
    {
     "name": "stdout",
     "output_type": "stream",
     "text": [
      "int64\n"
     ]
    }
   ],
   "source": [
    "arr = np.array([1,2,3,4],dtype='int64')\n",
    "print(arr.dtype)"
   ]
  },
  {
   "cell_type": "code",
   "execution_count": 54,
   "id": "cc90e342-3581-45cb-a612-d52dd6eee528",
   "metadata": {},
   "outputs": [
    {
     "name": "stdout",
     "output_type": "stream",
     "text": [
      "[b'1' b'2' b'3' b'4']\n",
      "|S1\n"
     ]
    }
   ],
   "source": [
    "arr = np.array([1, 2, 3, 4], dtype='S')\n",
    "\n",
    "print(arr)\n",
    "print(arr.dtype)"
   ]
  },
  {
   "cell_type": "code",
   "execution_count": 66,
   "id": "2b2922ed-a7a5-4a2d-b0c3-8bf00acf490b",
   "metadata": {},
   "outputs": [
    {
     "name": "stdout",
     "output_type": "stream",
     "text": [
      "12 days\n"
     ]
    }
   ],
   "source": [
    "# timedelta\n",
    "'''\n",
    "timedelta is a data type in NumPy that represents the difference between two dates or times.\n",
    "'''\n",
    "date1 = np.datetime64('2025-01-24')\n",
    "date2 = np.datetime64('2025-01-12')\n",
    "time_diff = date1 - date2\n",
    "print(time_diff)\n"
   ]
  },
  {
   "cell_type": "code",
   "execution_count": 72,
   "id": "506d5b5e-5c33-47a9-87ff-ee0ef1df2ec8",
   "metadata": {},
   "outputs": [
    {
     "name": "stdout",
     "output_type": "stream",
     "text": [
      "2024-01-24T12:26:01\n",
      "<class 'numpy.datetime64'>\n"
     ]
    }
   ],
   "source": [
    "# datetime\n",
    "'''\n",
    "datetime is a data type in NumPy that represents a specofic date and time.\n",
    "'''\n",
    "dt = np.datetime64('2024-01-24 12:26:01')\n",
    "print(dt)\n",
    "print(type(dt))"
   ]
  },
  {
   "cell_type": "markdown",
   "id": "1ffd56e5-979e-420c-a15c-385bab855581",
   "metadata": {},
   "source": [
    "## Data Type Conversion\n",
    "The astype() function creates a copy of the array, and allows you to specify the data type as a parameter.\n"
   ]
  },
  {
   "cell_type": "code",
   "execution_count": 75,
   "id": "2aa75c20-dcc4-46b0-8002-66971f57e8a6",
   "metadata": {},
   "outputs": [
    {
     "name": "stdout",
     "output_type": "stream",
     "text": [
      "[1 2 3 4]\n",
      "float64\n",
      "int32\n"
     ]
    }
   ],
   "source": [
    "arr = np.array([1.1,2.1,3.1,4.1])\n",
    "new_arr = arr.astype(int)\n",
    "print(new_arr)\n",
    "print(arr.dtype)\n",
    "print(new_arr.dtype)"
   ]
  },
  {
   "cell_type": "markdown",
   "id": "e30b6d57-cd5f-42fd-98d9-2734493256d1",
   "metadata": {},
   "source": [
    "## Array Attributes\n",
    "In NumPy, attributes are properties of NumPy arrays that provide information about the array's shape, size, data type, dimension, and so on.\n",
    "\n",
    "**ndim**\treturns number of dimension of the array\n",
    "\n",
    "**size**\treturns number of elements in the array\n",
    "\n",
    "**dtype**\treturns data type of elements in the array\n",
    "\n",
    "**shape**\treturns the size of the array in each dimension.\n",
    "\n",
    "**itemsize**\treturns the size (in bytes) of each elements in the array\n",
    "\n",
    "**data**\treturns the buffer containing actual elements of the array in memory\n"
   ]
  },
  {
   "cell_type": "code",
   "execution_count": 84,
   "id": "e46ef0a3-a977-4156-9fcc-8d7c6ac28228",
   "metadata": {},
   "outputs": [
    {
     "data": {
      "text/plain": [
       "1"
      ]
     },
     "execution_count": 84,
     "metadata": {},
     "output_type": "execute_result"
    }
   ],
   "source": [
    "arr = np.array([1,2,3,4,5,6])\n",
    "arr.ndim"
   ]
  },
  {
   "cell_type": "code",
   "execution_count": 86,
   "id": "37224780-476e-4454-96ea-ca7ee0806898",
   "metadata": {},
   "outputs": [
    {
     "name": "stdout",
     "output_type": "stream",
     "text": [
      "2\n"
     ]
    }
   ],
   "source": [
    "array1 = np.array([[2,4,6],[1,3,5]])\n",
    "print(array1.ndim)"
   ]
  },
  {
   "cell_type": "code",
   "execution_count": 88,
   "id": "8f550907-824a-4fab-b8b4-f0df535cedee",
   "metadata": {},
   "outputs": [
    {
     "name": "stdout",
     "output_type": "stream",
     "text": [
      "6\n"
     ]
    }
   ],
   "source": [
    "array1 = np.array([[2,4,6],[1,3,5]])\n",
    "print(array1.size)"
   ]
  },
  {
   "cell_type": "code",
   "execution_count": 90,
   "id": "ebf27c2d-66dd-47ce-a339-d246ddcfc2ad",
   "metadata": {},
   "outputs": [
    {
     "name": "stdout",
     "output_type": "stream",
     "text": [
      "(2, 3)\n"
     ]
    }
   ],
   "source": [
    "array1 = np.array([[2,4,6],[1,3,5]])\n",
    "print(array1.shape)"
   ]
  },
  {
   "cell_type": "code",
   "execution_count": 92,
   "id": "367f16b6-a28d-4172-8321-7d5c2eddfef3",
   "metadata": {},
   "outputs": [
    {
     "name": "stdout",
     "output_type": "stream",
     "text": [
      "int32\n",
      "float64\n"
     ]
    }
   ],
   "source": [
    "arr = np.array([1,2,3,4,5,6])\n",
    "array1 = np.array([2.1,4.2,6.4])\n",
    "print(arr.dtype)\n",
    "print(array1.dtype)"
   ]
  },
  {
   "cell_type": "code",
   "execution_count": 94,
   "id": "43aa9bca-0464-4fd8-ba53-bce480a9787f",
   "metadata": {},
   "outputs": [
    {
     "name": "stdout",
     "output_type": "stream",
     "text": [
      "4\n"
     ]
    }
   ],
   "source": [
    "arr = np.array([1,2,3,4,5,6])\n",
    "print(arr.itemsize)\n"
   ]
  },
  {
   "cell_type": "code",
   "execution_count": 98,
   "id": "c62aee3c-1b9f-4c84-9367-9f840da2c08e",
   "metadata": {},
   "outputs": [
    {
     "name": "stdout",
     "output_type": "stream",
     "text": [
      "<memory at 0x000002258E5D0580>\n",
      "<memory at 0x000002258E5D0580>\n"
     ]
    }
   ],
   "source": [
    "arr = np.array([1,2,3,4,5,6])\n",
    "print(arr.data)\n",
    "array1 = np.array([2.1,4.2,6.4])\n",
    "print(array1.data)\n"
   ]
  },
  {
   "cell_type": "code",
   "execution_count": 100,
   "id": "59c9883c-270b-4580-8745-c5dfc1469dff",
   "metadata": {},
   "outputs": [
    {
     "name": "stdout",
     "output_type": "stream",
     "text": [
      "(12, 4)\n"
     ]
    }
   ],
   "source": [
    "arr = np.array([[1,2,3],[4,5,6]])\n",
    "print(arr.strides)"
   ]
  },
  {
   "cell_type": "markdown",
   "id": "7bc5f106-d787-4375-88e2-793865be060d",
   "metadata": {},
   "source": [
    "## Array Methods in NumPy\n",
    "In NumPy, methods are functions applied to NumPy arrays that allow for manipulation, computation, and analysis of array data.\n",
    "\n",
    "__reshape():__ Reshapes the array without changing its data.\n",
    "\n",
    "__flatten():__ Converts a multi-dimensional array into a one-dimensional array.\n",
    "\n",
    "__transpose():__ Returns a transposed version of the array (rows become columns and vice versa).\n",
    "\n",
    "__sum():__ Calculates the sum of all elements in the array or along a specified axis.\n",
    "\n",
    "__mean():__ Computes the mean (average) of the array elements.\n",
    "\n",
    "__argmax():__ Returns the index of the maximum element in the array.\n",
    "\n",
    "__argmin():__ Returns the index of the minimum element in the array.\n",
    "\n",
    "__sort():__ Sorts the elements of the array.\n",
    "\n",
    "__unique():__ Finds unique elements of the array.\n",
    "\n",
    "__concatenate():__ Joins two or more arrays along a specified axis.\n"
   ]
  },
  {
   "cell_type": "code",
   "execution_count": 111,
   "id": "5ec9f827-a416-4b1e-ac6c-7a68fd31cf87",
   "metadata": {},
   "outputs": [
    {
     "name": "stdout",
     "output_type": "stream",
     "text": [
      "[[10 20 30 40]\n",
      " [50 60 70 80]]\n"
     ]
    }
   ],
   "source": [
    "ar = np.array([10,20,30,40,50,60,70,80])\n",
    "\n",
    "print(ar.reshape(2,4))"
   ]
  },
  {
   "cell_type": "code",
   "execution_count": 113,
   "id": "cb83ee3d-1baa-43a4-8421-733de2caaf51",
   "metadata": {},
   "outputs": [
    {
     "name": "stdout",
     "output_type": "stream",
     "text": [
      "360\n"
     ]
    }
   ],
   "source": [
    "print(ar.sum())"
   ]
  },
  {
   "cell_type": "code",
   "execution_count": 117,
   "id": "5b99e1f3-2e26-4565-815a-1d0e3fbb0549",
   "metadata": {},
   "outputs": [
    {
     "name": "stdout",
     "output_type": "stream",
     "text": [
      "[ 6 15 24]\n"
     ]
    }
   ],
   "source": [
    "array = np.array([[1, 2, 3],\n",
    "                  [4, 5, 6],\n",
    "                  [7, 8, 9]])\n",
    "print(array.sum(axis=1))"
   ]
  },
  {
   "cell_type": "code",
   "execution_count": 121,
   "id": "5f5e2c66-c38a-4f94-a2cf-9834075a0883",
   "metadata": {},
   "outputs": [
    {
     "name": "stdout",
     "output_type": "stream",
     "text": [
      "[1 2 3]\n"
     ]
    }
   ],
   "source": [
    "array = np.array([[1, 2, 3],\n",
    "                  [4, 5, 6],\n",
    "                  [7, 8, 9]])\n",
    "print(array.min(axis=0))"
   ]
  },
  {
   "cell_type": "code",
   "execution_count": 125,
   "id": "e365f3bb-cbc4-403c-95f5-bc750c34f9a3",
   "metadata": {},
   "outputs": [
    {
     "name": "stdout",
     "output_type": "stream",
     "text": [
      "4\n"
     ]
    }
   ],
   "source": [
    "array = np.array([[1, 2, 3],\n",
    "                  [4, 55, 6],\n",
    "                  [7, 8, 9]])\n",
    "print(array.argmax())"
   ]
  }
 ],
 "metadata": {
  "kernelspec": {
   "display_name": "Python [conda env:base] *",
   "language": "python",
   "name": "conda-base-py"
  },
  "language_info": {
   "codemirror_mode": {
    "name": "ipython",
    "version": 3
   },
   "file_extension": ".py",
   "mimetype": "text/x-python",
   "name": "python",
   "nbconvert_exporter": "python",
   "pygments_lexer": "ipython3",
   "version": "3.12.7"
  }
 },
 "nbformat": 4,
 "nbformat_minor": 5
}
