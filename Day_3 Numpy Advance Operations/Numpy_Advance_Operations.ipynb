{
 "cells": [
  {
   "cell_type": "markdown",
   "id": "4120b8a3-8921-4104-8a78-d3c12760e2c4",
   "metadata": {},
   "source": [
    "# Numpy Advance Operations"
   ]
  },
  {
   "cell_type": "code",
   "execution_count": 6,
   "id": "f2c50d67-545f-4ba3-b9c4-8d3b5c826d38",
   "metadata": {},
   "outputs": [],
   "source": [
    "import numpy as np"
   ]
  },
  {
   "cell_type": "markdown",
   "id": "945e0f93-19b2-4d82-955f-2f7424a059a2",
   "metadata": {},
   "source": [
    "## Numpy Broadcasting\n",
    "In NumPy, we can perform mathematical operations on arrays of different shapes. An array with a smaller shape is expanded to match the shape of a larger one. This is called broadcasting."
   ]
  },
  {
   "cell_type": "code",
   "execution_count": 9,
   "id": "90ecc291-b085-492c-bf11-da4ccd8c7696",
   "metadata": {},
   "outputs": [
    {
     "name": "stdout",
     "output_type": "stream",
     "text": [
      "[5 7 9]\n"
     ]
    }
   ],
   "source": [
    "# Rule 1 (Arrays with same shape are compatible)\n",
    "\n",
    "a = np.array([1,2,3])\n",
    "b = np.array([4,5,6])\n",
    "result = a + b\n",
    "print(result)"
   ]
  },
  {
   "cell_type": "code",
   "execution_count": 11,
   "id": "2c8d63d1-b3d1-407b-a804-e1ba2742cb2d",
   "metadata": {},
   "outputs": [
    {
     "name": "stdout",
     "output_type": "stream",
     "text": [
      "[[ 5  7  9]\n",
      " [ 8 10 12]]\n"
     ]
    }
   ],
   "source": [
    "# Rule 2 (Arrays with dimensions of size 1 are stretched or repeated along that dimension.)\n",
    "'''\n",
    "Example:\n",
    "Shape(1,3) and Shape(4,3)\n",
    "Shape(2,1) and Shape(2,3)\n",
    "Shape(1,1) and Shape(3,1)\n",
    "'''\n",
    "a = np.array([1,2,3]) # 1 x 3\n",
    "b = np.array([        \n",
    "    [4,5,6],          # 2 x 3\n",
    "    [7,8,9]\n",
    "])\n",
    "result = a + b\n",
    "print(result)"
   ]
  },
  {
   "cell_type": "code",
   "execution_count": 13,
   "id": "ce0df132-bed8-46ce-9d96-3a2c6e7e7360",
   "metadata": {},
   "outputs": [
    {
     "name": "stdout",
     "output_type": "stream",
     "text": [
      "[2. 4. 6.]\n"
     ]
    }
   ],
   "source": [
    "# Rule 3 (Array with size 1 in a particular dimension act as if they had the size of the maximum shape along that dimension.)\n",
    "\n",
    "a = np.array([10,20,30])\n",
    "scalar = 5\n",
    "result = a / scalar\n",
    "print(result)"
   ]
  },
  {
   "cell_type": "markdown",
   "id": "b9f5b158-cc32-42ef-86f6-6e58672e7a8d",
   "metadata": {},
   "source": [
    "## From buffer\n",
    "Creates a new one-dimensional array from a buffer object.\n",
    "\n",
    "A buffer object is a memory object that store in a sequence of bytes such as a string, bytes, bytearray etc.\n",
    "\n",
    "Syntax:\n",
    "\n",
    "__numpy.frombuffer(buffer_object,dtype,count,offset)__\n",
    "\n",
    "__buffer_object :__ Buffer object you  want to convert into array.\n",
    "\n",
    "__dtype :__ Resulted data type of an array.\n",
    "\n",
    "__count :__ How much item you want to fetch from buffer object? If set to -1, it will read all items.\n",
    "\n",
    "__offset :__ Buffer object's starting position, default is 0 index"
   ]
  },
  {
   "cell_type": "code",
   "execution_count": 32,
   "id": "87112bcf-60b4-4875-b96d-bc2eafd3c483",
   "metadata": {},
   "outputs": [
    {
     "name": "stdout",
     "output_type": "stream",
     "text": [
      "[1 2 3 4 5]\n"
     ]
    }
   ],
   "source": [
    "myBytes = b'\\x01\\x02\\x03\\x04\\x05'\n",
    "myArray = np.frombuffer(myBytes,dtype=np.uint8)\n",
    "print(myArray)"
   ]
  },
  {
   "cell_type": "markdown",
   "id": "84bf2ef4-eeb0-4648-a995-1dab31004814",
   "metadata": {},
   "source": [
    "## Fromiter\n",
    "It creates a new one-dimensional array from an iterable object like list,tuple,string.\n",
    "Syntax : numpy.fromiter(iterable, dtype, count = -1)\n",
    "\n",
    "Parameters :\n",
    "\n",
    "    iterable : The iterable object providing data for the array.\n",
    "\n",
    "    dtype : [data-type] Data-type of the returned array.\n",
    "\n",
    "    count : [int, optional] Number of items to read.\n",
    "\n",
    "    Returns : [ndarray] The output array.\n"
   ]
  },
  {
   "cell_type": "code",
   "execution_count": 49,
   "id": "effb11b4-ce94-4d7f-a7fd-715ba62812b3",
   "metadata": {},
   "outputs": [
    {
     "name": "stdout",
     "output_type": "stream",
     "text": [
      "<class 'list'>\n",
      "[1 2 3 4 5 6]\n",
      "<class 'numpy.ndarray'>\n"
     ]
    }
   ],
   "source": [
    "my_iterable=[1,2,3,4,5,6]\n",
    "print(type(my_iterable))\n",
    "my_array=np.fromiter(my_iterable,dtype=int)\n",
    "print(my_array)\n",
    "print(type(my_array))\n"
   ]
  },
  {
   "cell_type": "code",
   "execution_count": 51,
   "id": "ebbdafd2-d657-49a0-a5a5-cfd4c76e9711",
   "metadata": {},
   "outputs": [
    {
     "name": "stdout",
     "output_type": "stream",
     "text": [
      "[ 0.  1.  4.  9. 16.]\n"
     ]
    }
   ],
   "source": [
    "iterable = (x * x for x in range(5))\n",
    "my_array = np.fromiter(iterable,float)\n",
    "print(my_array)"
   ]
  },
  {
   "cell_type": "code",
   "execution_count": 63,
   "id": "499aa516-c7a6-443a-babe-a1e5d4b00f88",
   "metadata": {},
   "outputs": [
    {
     "name": "stdout",
     "output_type": "stream",
     "text": [
      "['p' 'y' 't' 'h' 'o' 'n']\n"
     ]
    }
   ],
   "source": [
    "a = \"python\"\n",
    "# creating 1-d array\n",
    "b = np.fromiter(a, dtype='U2')\n",
    "print(b)"
   ]
  },
  {
   "cell_type": "markdown",
   "id": "3fbf5d18-4a58-4d9e-aef2-719486863e41",
   "metadata": {},
   "source": [
    "## Matrix operations\n",
    "A matrix is a two-dimensional data structure where numbers are arranged into rows and columns.\n",
    "\n",
    "array()\tcreates a matrix\n",
    "\n",
    "dot()\tperforms matrix multiplication\n",
    "\n",
    "transpose()\ttransposes a matrix\n",
    "\n",
    "linalg.inv()\tcalculates the inverse of a matrix\n",
    "\n",
    "linalg.det()\tcalculates the determinant of a matrix\n",
    "\n",
    "flatten()\ttransforms a matrix into 1D array\n"
   ]
  },
  {
   "cell_type": "code",
   "execution_count": 81,
   "id": "5362155e-e4d8-4438-8332-1b0a90487213",
   "metadata": {},
   "outputs": [
    {
     "name": "stdout",
     "output_type": "stream",
     "text": [
      "[[20 28]\n",
      " [52 76]]\n"
     ]
    }
   ],
   "source": [
    "## Matrox Multiplication (dot.)\n",
    "matrix1 = np.array([[1,3,],\n",
    "                    [5,7]])\n",
    "\n",
    "matrix2 = np.array([[2,4],\n",
    "                   [6,8]])\n",
    "\n",
    "result = np.dot(matrix1,matrix2)\n",
    "print(result)"
   ]
  },
  {
   "cell_type": "code",
   "execution_count": 83,
   "id": "45142d1e-0b3e-4740-8ef1-49025c4e2090",
   "metadata": {},
   "outputs": [
    {
     "name": "stdout",
     "output_type": "stream",
     "text": [
      "[[1 5]\n",
      " [3 7]]\n"
     ]
    }
   ],
   "source": [
    "## Transpose\n",
    "matrix1 = np.array([[1, 3], \n",
    "             \t\t[5, 7]])\n",
    "result = np.transpose(matrix1)\n",
    "\n",
    "print(result)"
   ]
  },
  {
   "cell_type": "code",
   "execution_count": 78,
   "id": "de2daa68-60d6-423d-bf60-f358503281fa",
   "metadata": {},
   "outputs": [
    {
     "name": "stdout",
     "output_type": "stream",
     "text": [
      "[[-1.11111111 -0.11111111  0.72222222]\n",
      " [ 0.88888889  0.22222222 -0.61111111]\n",
      " [-0.11111111 -0.11111111  0.22222222]]\n"
     ]
    },
    {
     "data": {
      "text/plain": [
       "'\\nNote: If we try to find the inverse of a non-square matrix, we will get an error message:\\n'"
      ]
     },
     "execution_count": 78,
     "metadata": {},
     "output_type": "execute_result"
    }
   ],
   "source": [
    "## Inverse of matrix\n",
    "matrix1 = np.array([[1,3,5],\n",
    "                    [7,9,2],\n",
    "                   [4,6,8]])\n",
    "\n",
    "result = np.linalg.inv(matrix1)\n",
    "print(result)\n",
    "\n",
    "'''\n",
    "Note: If we try to find the inverse of a non-square matrix, we will get an error message:\n",
    "'''"
   ]
  },
  {
   "cell_type": "code",
   "execution_count": 93,
   "id": "f3c9c560-9fb6-4237-be5b-024ca9c27de1",
   "metadata": {},
   "outputs": [
    {
     "name": "stdout",
     "output_type": "stream",
     "text": [
      "-5.00\n"
     ]
    }
   ],
   "source": [
    "## Determinant of matrix\n",
    "'''\n",
    "In 2 x 2 matrix,\n",
    " Matrix A = [a b       determinant = ad-bc\n",
    "             c d]\n",
    "\n",
    "In 3 x 3 matrix,\n",
    "Matrix A = [a b c\n",
    "            d e f\n",
    "            g h i]\n",
    "\n",
    "determinant = a(ef - fh) −b(di − fg) + c(dh − eg)\n",
    "\n",
    "Note: Alternate signs are applied: +,−,+\n",
    "'''\n",
    "\n",
    "matrix1 = np.array([[1, 2, 3], \n",
    "             \t\t[4, 5,1],\n",
    "                    [2, 3, 4]])\n",
    "\n",
    "result = np.linalg.det(matrix1)\n",
    "print(f\"{result:.2f}\")\n",
    "\n",
    "\n",
    "\n"
   ]
  },
  {
   "cell_type": "code",
   "execution_count": 95,
   "id": "4e64106e-4cfa-4e3a-9cfc-3558a267862d",
   "metadata": {},
   "outputs": [
    {
     "name": "stdout",
     "output_type": "stream",
     "text": [
      "Flattened 2x3 matrix: [1 2 3 4 5 7]\n"
     ]
    }
   ],
   "source": [
    "## Flaten matrix\n",
    "'''\n",
    "Flattening a matrix simply means converting a matrix into a 1D array.\n",
    "'''\n",
    "matrix1 = np.array([[1, 2, 3], \n",
    "             \t\t[4, 5, 7]])\n",
    "\n",
    "result = matrix1.flatten()\n",
    "print(\"Flattened 2x3 matrix:\", result)"
   ]
  },
  {
   "cell_type": "markdown",
   "id": "f39d9ded-038b-4b60-9ef6-2763065a1a51",
   "metadata": {},
   "source": [
    "## Numpy Set Operations\n",
    "A set is a collection of unique data. That is, elements of a set cannot be repeated.\n",
    "\n",
    "NumPy set operations perform mathematical set operations on arrays like union, intersection, difference, and symmetric difference."
   ]
  },
  {
   "cell_type": "code",
   "execution_count": 98,
   "id": "c6e1b7e4-af9d-431e-a03e-887757eb8f9a",
   "metadata": {},
   "outputs": [
    {
     "name": "stdout",
     "output_type": "stream",
     "text": [
      "[0 1 2 3 5]\n"
     ]
    }
   ],
   "source": [
    "## unionn\n",
    "A = np.array([1,3,5])\n",
    "B = np.array([0,2,3])\n",
    "\n",
    "result = np.union1d(A,B)\n",
    "print(result)"
   ]
  },
  {
   "cell_type": "code",
   "execution_count": 100,
   "id": "9eb14494-fe3f-44ea-bbbb-f163533f2a6e",
   "metadata": {},
   "outputs": [
    {
     "name": "stdout",
     "output_type": "stream",
     "text": [
      "[3]\n"
     ]
    }
   ],
   "source": [
    "## intersection\n",
    "A = np.array([1,3,5])\n",
    "B = np.array([0,2,3])\n",
    "\n",
    "result = np.intersect1d(A,B)\n",
    "print(result)"
   ]
  },
  {
   "cell_type": "code",
   "execution_count": 106,
   "id": "9fe9db8f-78c0-4231-9abf-a8ace69744c6",
   "metadata": {},
   "outputs": [
    {
     "name": "stdout",
     "output_type": "stream",
     "text": [
      "[1 5]\n",
      "[0 2]\n"
     ]
    }
   ],
   "source": [
    "## Difference\n",
    "# A- B\n",
    "A = np.array([1,3,5])\n",
    "B = np.array([0,2,3])\n",
    "result = np.setdiff1d(A,B)\n",
    "print(result)\n",
    "\n",
    "# B - A\n",
    "A = np.array([1,3,5])\n",
    "B = np.array([0,2,3])\n",
    "\n",
    "result = np.setdiff1d(B,A)\n",
    "print(result)"
   ]
  },
  {
   "cell_type": "code",
   "execution_count": 108,
   "id": "a2649bc9-297e-4b3b-a41c-160d77140e59",
   "metadata": {},
   "outputs": [
    {
     "name": "stdout",
     "output_type": "stream",
     "text": [
      "[0 1 2 5]\n"
     ]
    }
   ],
   "source": [
    "## Symmetric Difference\n",
    "#The symmetric difference between two sets A and B includes all elements of A and B without the common elements.\n",
    "\n",
    "A = np.array([1, 3, 5])\n",
    "B = np.array([0, 2, 3])\n",
    "\n",
    "result = np.setxor1d(A, B)\n",
    "\n",
    "print(result)  \n"
   ]
  },
  {
   "cell_type": "code",
   "execution_count": 110,
   "id": "d7ce2bc7-58cd-4e06-91e2-98592344bd57",
   "metadata": {},
   "outputs": [
    {
     "name": "stdout",
     "output_type": "stream",
     "text": [
      "[1 2 3 4 5 7]\n"
     ]
    }
   ],
   "source": [
    "## Unique Values\n",
    "array1 = np.array([1,1, 2, 2, 4, 7, 7, 3, 5, 2, 5])\n",
    "result = np.unique(array1)\n",
    "print(result)"
   ]
  },
  {
   "cell_type": "markdown",
   "id": "851bcc19-17ba-40d2-8808-847d093458cd",
   "metadata": {},
   "source": [
    "## Vectorization\n",
    "We've used the concept of vectorization many times in NumPy. It refers to performing element-wise operations on arrays."
   ]
  },
  {
   "cell_type": "code",
   "execution_count": 113,
   "id": "0d73164e-ff1f-468c-bc0b-2c75d0d77055",
   "metadata": {},
   "outputs": [
    {
     "name": "stdout",
     "output_type": "stream",
     "text": [
      "[11 12 13 14 15]\n"
     ]
    }
   ],
   "source": [
    "# Lets start with simple example\n",
    "array1 = np.array([1,2,3,4,5])\n",
    "number = 10\n",
    "result = array1 + number\n",
    "print(result)"
   ]
  },
  {
   "cell_type": "code",
   "execution_count": 117,
   "id": "c38b0435-88c8-45ca-92dc-1279b9132eb2",
   "metadata": {},
   "outputs": [
    {
     "name": "stdout",
     "output_type": "stream",
     "text": [
      "[[10 10 10]\n",
      " [10 10 10]]\n"
     ]
    }
   ],
   "source": [
    "## Vectorization to add two array together\n",
    "\n",
    "array1 = np.array([[1,2,3],\n",
    "                  [4,5,6]])\n",
    "array2 = np.array([[9,8,7],\n",
    "                  [6,5,4]])\n",
    "array_sum = array1 + array2\n",
    "\n",
    "print(array_sum)"
   ]
  },
  {
   "cell_type": "code",
   "execution_count": null,
   "id": "73586612-9108-4dd0-951a-c546ceff1e0f",
   "metadata": {},
   "outputs": [],
   "source": []
  }
 ],
 "metadata": {
  "kernelspec": {
   "display_name": "Python [conda env:base] *",
   "language": "python",
   "name": "conda-base-py"
  },
  "language_info": {
   "codemirror_mode": {
    "name": "ipython",
    "version": 3
   },
   "file_extension": ".py",
   "mimetype": "text/x-python",
   "name": "python",
   "nbconvert_exporter": "python",
   "pygments_lexer": "ipython3",
   "version": "3.12.7"
  }
 },
 "nbformat": 4,
 "nbformat_minor": 5
}
