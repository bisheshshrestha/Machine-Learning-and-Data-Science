{
 "cells": [
  {
   "cell_type": "code",
   "execution_count": 2,
   "id": "29cc0ea1-ee1d-4b6f-979a-7a84ed7e2250",
   "metadata": {},
   "outputs": [],
   "source": [
    "import numpy as np\n",
    "import pandas as pd\n",
    "import matplotlib.pyplot as plt\n",
    "import seaborn as sns"
   ]
  },
  {
   "cell_type": "code",
   "execution_count": 4,
   "id": "7da1e6d1-62e8-4530-b77d-491c5ef54fa9",
   "metadata": {},
   "outputs": [],
   "source": [
    "df = pd.read_csv('Data_Sets/road_accident_dataset.csv')"
   ]
  },
  {
   "cell_type": "code",
   "execution_count": 6,
   "id": "6e65f626-da6d-42b9-bf0c-60f0230d3168",
   "metadata": {},
   "outputs": [
    {
     "data": {
      "text/html": [
       "<div>\n",
       "<style scoped>\n",
       "    .dataframe tbody tr th:only-of-type {\n",
       "        vertical-align: middle;\n",
       "    }\n",
       "\n",
       "    .dataframe tbody tr th {\n",
       "        vertical-align: top;\n",
       "    }\n",
       "\n",
       "    .dataframe thead th {\n",
       "        text-align: right;\n",
       "    }\n",
       "</style>\n",
       "<table border=\"1\" class=\"dataframe\">\n",
       "  <thead>\n",
       "    <tr style=\"text-align: right;\">\n",
       "      <th></th>\n",
       "      <th>Country</th>\n",
       "      <th>Year</th>\n",
       "      <th>Month</th>\n",
       "      <th>Day of Week</th>\n",
       "      <th>Time of Day</th>\n",
       "      <th>Urban/Rural</th>\n",
       "      <th>Road Type</th>\n",
       "      <th>Weather Conditions</th>\n",
       "      <th>Visibility Level</th>\n",
       "      <th>Number of Vehicles Involved</th>\n",
       "      <th>...</th>\n",
       "      <th>Number of Fatalities</th>\n",
       "      <th>Emergency Response Time</th>\n",
       "      <th>Traffic Volume</th>\n",
       "      <th>Road Condition</th>\n",
       "      <th>Accident Cause</th>\n",
       "      <th>Insurance Claims</th>\n",
       "      <th>Medical Cost</th>\n",
       "      <th>Economic Loss</th>\n",
       "      <th>Region</th>\n",
       "      <th>Population Density</th>\n",
       "    </tr>\n",
       "  </thead>\n",
       "  <tbody>\n",
       "    <tr>\n",
       "      <th>0</th>\n",
       "      <td>USA</td>\n",
       "      <td>2002</td>\n",
       "      <td>October</td>\n",
       "      <td>Tuesday</td>\n",
       "      <td>Evening</td>\n",
       "      <td>Rural</td>\n",
       "      <td>Street</td>\n",
       "      <td>Windy</td>\n",
       "      <td>220.414651</td>\n",
       "      <td>1</td>\n",
       "      <td>...</td>\n",
       "      <td>2</td>\n",
       "      <td>58.625720</td>\n",
       "      <td>7412.752760</td>\n",
       "      <td>Wet</td>\n",
       "      <td>Weather</td>\n",
       "      <td>4</td>\n",
       "      <td>40499.856982</td>\n",
       "      <td>22072.878502</td>\n",
       "      <td>Europe</td>\n",
       "      <td>3866.273014</td>\n",
       "    </tr>\n",
       "    <tr>\n",
       "      <th>1</th>\n",
       "      <td>UK</td>\n",
       "      <td>2014</td>\n",
       "      <td>December</td>\n",
       "      <td>Saturday</td>\n",
       "      <td>Evening</td>\n",
       "      <td>Urban</td>\n",
       "      <td>Street</td>\n",
       "      <td>Windy</td>\n",
       "      <td>168.311358</td>\n",
       "      <td>3</td>\n",
       "      <td>...</td>\n",
       "      <td>1</td>\n",
       "      <td>58.041380</td>\n",
       "      <td>4458.628820</td>\n",
       "      <td>Snow-covered</td>\n",
       "      <td>Mechanical Failure</td>\n",
       "      <td>3</td>\n",
       "      <td>6486.600073</td>\n",
       "      <td>9534.399441</td>\n",
       "      <td>North America</td>\n",
       "      <td>2333.916224</td>\n",
       "    </tr>\n",
       "    <tr>\n",
       "      <th>2</th>\n",
       "      <td>USA</td>\n",
       "      <td>2012</td>\n",
       "      <td>July</td>\n",
       "      <td>Sunday</td>\n",
       "      <td>Afternoon</td>\n",
       "      <td>Urban</td>\n",
       "      <td>Highway</td>\n",
       "      <td>Snowy</td>\n",
       "      <td>341.286506</td>\n",
       "      <td>4</td>\n",
       "      <td>...</td>\n",
       "      <td>4</td>\n",
       "      <td>42.374452</td>\n",
       "      <td>9856.915064</td>\n",
       "      <td>Wet</td>\n",
       "      <td>Speeding</td>\n",
       "      <td>4</td>\n",
       "      <td>29164.412982</td>\n",
       "      <td>58009.145124</td>\n",
       "      <td>South America</td>\n",
       "      <td>4408.889129</td>\n",
       "    </tr>\n",
       "    <tr>\n",
       "      <th>3</th>\n",
       "      <td>UK</td>\n",
       "      <td>2017</td>\n",
       "      <td>May</td>\n",
       "      <td>Saturday</td>\n",
       "      <td>Evening</td>\n",
       "      <td>Urban</td>\n",
       "      <td>Main Road</td>\n",
       "      <td>Clear</td>\n",
       "      <td>489.384536</td>\n",
       "      <td>2</td>\n",
       "      <td>...</td>\n",
       "      <td>3</td>\n",
       "      <td>48.554014</td>\n",
       "      <td>4958.646267</td>\n",
       "      <td>Icy</td>\n",
       "      <td>Distracted Driving</td>\n",
       "      <td>3</td>\n",
       "      <td>25797.212566</td>\n",
       "      <td>20907.151302</td>\n",
       "      <td>Australia</td>\n",
       "      <td>2810.822423</td>\n",
       "    </tr>\n",
       "    <tr>\n",
       "      <th>4</th>\n",
       "      <td>Canada</td>\n",
       "      <td>2002</td>\n",
       "      <td>July</td>\n",
       "      <td>Tuesday</td>\n",
       "      <td>Afternoon</td>\n",
       "      <td>Rural</td>\n",
       "      <td>Highway</td>\n",
       "      <td>Rainy</td>\n",
       "      <td>348.344850</td>\n",
       "      <td>1</td>\n",
       "      <td>...</td>\n",
       "      <td>4</td>\n",
       "      <td>18.318250</td>\n",
       "      <td>3843.191463</td>\n",
       "      <td>Icy</td>\n",
       "      <td>Distracted Driving</td>\n",
       "      <td>8</td>\n",
       "      <td>15605.293921</td>\n",
       "      <td>13584.060759</td>\n",
       "      <td>South America</td>\n",
       "      <td>3883.645634</td>\n",
       "    </tr>\n",
       "  </tbody>\n",
       "</table>\n",
       "<p>5 rows × 30 columns</p>\n",
       "</div>"
      ],
      "text/plain": [
       "  Country  Year     Month Day of Week Time of Day Urban/Rural  Road Type  \\\n",
       "0     USA  2002   October     Tuesday     Evening       Rural     Street   \n",
       "1      UK  2014  December    Saturday     Evening       Urban     Street   \n",
       "2     USA  2012      July      Sunday   Afternoon       Urban    Highway   \n",
       "3      UK  2017       May    Saturday     Evening       Urban  Main Road   \n",
       "4  Canada  2002      July     Tuesday   Afternoon       Rural    Highway   \n",
       "\n",
       "  Weather Conditions  Visibility Level  Number of Vehicles Involved  ...  \\\n",
       "0              Windy        220.414651                            1  ...   \n",
       "1              Windy        168.311358                            3  ...   \n",
       "2              Snowy        341.286506                            4  ...   \n",
       "3              Clear        489.384536                            2  ...   \n",
       "4              Rainy        348.344850                            1  ...   \n",
       "\n",
       "   Number of Fatalities Emergency Response Time Traffic Volume  \\\n",
       "0                     2               58.625720    7412.752760   \n",
       "1                     1               58.041380    4458.628820   \n",
       "2                     4               42.374452    9856.915064   \n",
       "3                     3               48.554014    4958.646267   \n",
       "4                     4               18.318250    3843.191463   \n",
       "\n",
       "   Road Condition      Accident Cause Insurance Claims  Medical Cost  \\\n",
       "0             Wet             Weather                4  40499.856982   \n",
       "1    Snow-covered  Mechanical Failure                3   6486.600073   \n",
       "2             Wet            Speeding                4  29164.412982   \n",
       "3             Icy  Distracted Driving                3  25797.212566   \n",
       "4             Icy  Distracted Driving                8  15605.293921   \n",
       "\n",
       "   Economic Loss         Region  Population Density  \n",
       "0   22072.878502         Europe         3866.273014  \n",
       "1    9534.399441  North America         2333.916224  \n",
       "2   58009.145124  South America         4408.889129  \n",
       "3   20907.151302      Australia         2810.822423  \n",
       "4   13584.060759  South America         3883.645634  \n",
       "\n",
       "[5 rows x 30 columns]"
      ]
     },
     "execution_count": 6,
     "metadata": {},
     "output_type": "execute_result"
    }
   ],
   "source": [
    "df.head()"
   ]
  },
  {
   "cell_type": "code",
   "execution_count": 8,
   "id": "7b40925a-7d9f-4cf2-a4cd-085c1984118a",
   "metadata": {},
   "outputs": [
    {
     "data": {
      "text/plain": [
       "(132000, 30)"
      ]
     },
     "execution_count": 8,
     "metadata": {},
     "output_type": "execute_result"
    }
   ],
   "source": [
    "df.shape"
   ]
  },
  {
   "cell_type": "code",
   "execution_count": 10,
   "id": "3063c9ae-2f4b-4f8c-83e8-2995e5d66652",
   "metadata": {},
   "outputs": [
    {
     "data": {
      "text/plain": [
       "<bound method DataFrame.info of           Country  Year     Month Day of Week Time of Day Urban/Rural  \\\n",
       "0             USA  2002   October     Tuesday     Evening       Rural   \n",
       "1              UK  2014  December    Saturday     Evening       Urban   \n",
       "2             USA  2012      July      Sunday   Afternoon       Urban   \n",
       "3              UK  2017       May    Saturday     Evening       Urban   \n",
       "4          Canada  2002      July     Tuesday   Afternoon       Rural   \n",
       "...           ...   ...       ...         ...         ...         ...   \n",
       "131995    Germany  2023      June   Wednesday     Evening       Rural   \n",
       "131996     Brazil  2023   January     Tuesday     Morning       Rural   \n",
       "131997     Russia  2021     March   Wednesday   Afternoon       Urban   \n",
       "131998  Australia  2002       May     Tuesday     Morning       Urban   \n",
       "131999        USA  2022  November     Tuesday     Morning       Urban   \n",
       "\n",
       "        Road Type Weather Conditions  Visibility Level  \\\n",
       "0          Street              Windy        220.414651   \n",
       "1          Street              Windy        168.311358   \n",
       "2         Highway              Snowy        341.286506   \n",
       "3       Main Road              Clear        489.384536   \n",
       "4         Highway              Rainy        348.344850   \n",
       "...           ...                ...               ...   \n",
       "131995  Main Road              Foggy        351.740871   \n",
       "131996  Main Road              Foggy         95.563567   \n",
       "131997     Street              Clear         74.112102   \n",
       "131998     Street              Rainy        276.612565   \n",
       "131999     Street              Windy        253.531380   \n",
       "\n",
       "        Number of Vehicles Involved  ...  Number of Fatalities  \\\n",
       "0                                 1  ...                     2   \n",
       "1                                 3  ...                     1   \n",
       "2                                 4  ...                     4   \n",
       "3                                 2  ...                     3   \n",
       "4                                 1  ...                     4   \n",
       "...                             ...  ...                   ...   \n",
       "131995                            4  ...                     0   \n",
       "131996                            1  ...                     4   \n",
       "131997                            3  ...                     3   \n",
       "131998                            3  ...                     2   \n",
       "131999                            3  ...                     4   \n",
       "\n",
       "       Emergency Response Time Traffic Volume  Road Condition  \\\n",
       "0                    58.625720    7412.752760             Wet   \n",
       "1                    58.041380    4458.628820    Snow-covered   \n",
       "2                    42.374452    9856.915064             Wet   \n",
       "3                    48.554014    4958.646267             Icy   \n",
       "4                    18.318250    3843.191463             Icy   \n",
       "...                        ...            ...             ...   \n",
       "131995               37.405598    1907.208566             Icy   \n",
       "131996               17.054490    2706.253339             Dry   \n",
       "131997               55.558876    6860.161645             Dry   \n",
       "131998               19.100498    1523.299088             Wet   \n",
       "131999               28.037108    7662.853082    Snow-covered   \n",
       "\n",
       "            Accident Cause Insurance Claims  Medical Cost  Economic Loss  \\\n",
       "0                  Weather                4  40499.856982   22072.878502   \n",
       "1       Mechanical Failure                3   6486.600073    9534.399441   \n",
       "2                 Speeding                4  29164.412982   58009.145124   \n",
       "3       Distracted Driving                3  25797.212566   20907.151302   \n",
       "4       Distracted Driving                8  15605.293921   13584.060759   \n",
       "...                    ...              ...           ...            ...   \n",
       "131995            Speeding                3  18640.125887   50695.311876   \n",
       "131996       Drunk Driving                2  48161.129965   20260.167191   \n",
       "131997            Speeding                9  24696.058692    8132.133502   \n",
       "131998            Speeding                8  13486.716680   17607.573072   \n",
       "131999            Speeding                6   3240.358544   27765.168982   \n",
       "\n",
       "               Region  Population Density  \n",
       "0              Europe         3866.273014  \n",
       "1       North America         2333.916224  \n",
       "2       South America         4408.889129  \n",
       "3           Australia         2810.822423  \n",
       "4       South America         3883.645634  \n",
       "...               ...                 ...  \n",
       "131995           Asia          173.307333  \n",
       "131996           Asia         4375.443810  \n",
       "131997           Asia         4196.244517  \n",
       "131998         Europe         2911.904030  \n",
       "131999           Asia         2949.568694  \n",
       "\n",
       "[132000 rows x 30 columns]>"
      ]
     },
     "execution_count": 10,
     "metadata": {},
     "output_type": "execute_result"
    }
   ],
   "source": [
    "df.info"
   ]
  },
  {
   "cell_type": "code",
   "execution_count": 12,
   "id": "c7db3d1d-db2a-4753-9711-259deace8925",
   "metadata": {},
   "outputs": [
    {
     "data": {
      "text/plain": [
       "array(['USA', 'UK', 'Canada', 'India', 'China', 'Japan', 'Russia',\n",
       "       'Brazil', 'Germany', 'Australia'], dtype=object)"
      ]
     },
     "execution_count": 12,
     "metadata": {},
     "output_type": "execute_result"
    }
   ],
   "source": [
    "df['Country'].unique()"
   ]
  },
  {
   "cell_type": "code",
   "execution_count": 14,
   "id": "889073b3-ef50-40cc-b8c9-54e2fb200d45",
   "metadata": {},
   "outputs": [
    {
     "data": {
      "text/plain": [
       "<Axes: xlabel='Country', ylabel='count'>"
      ]
     },
     "execution_count": 14,
     "metadata": {},
     "output_type": "execute_result"
    },
    {
     "data": {
      "image/png": "[encoded data removed]",
      "text/plain": [
       "<Figure size 640x480 with 1 Axes>"
      ]
     },
     "metadata": {},
     "output_type": "display_data"
    }
   ],
   "source": [
    "sns.countplot(df,x='Country',color='green')"
   ]
  },
  {
   "cell_type": "code",
   "execution_count": null,
   "id": "8951114a-6851-4431-8e6d-2128a6c066b2",
   "metadata": {},
   "outputs": [],
   "source": []
  }
 ],
 "metadata": {
  "kernelspec": {
   "display_name": "Python [conda env:base] *",
   "language": "python",
   "name": "conda-base-py"
  },
  "language_info": {
   "codemirror_mode": {
    "name": "ipython",
    "version": 3
   },
   "file_extension": ".py",
   "mimetype": "text/x-python",
   "name": "python",
   "nbconvert_exporter": "python",
   "pygments_lexer": "ipython3",
   "version": "3.12.7"
  }
 },
 "nbformat": 4,
 "nbformat_minor": 5
}
