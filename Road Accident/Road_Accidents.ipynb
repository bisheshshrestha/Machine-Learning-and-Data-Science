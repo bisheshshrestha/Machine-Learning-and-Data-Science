{
 "cells": [
  {
   "cell_type": "code",
   "execution_count": 2,
   "id": "29cc0ea1-ee1d-4b6f-979a-7a84ed7e2250",
   "metadata": {},
   "outputs": [],
   "source": [
    "import numpy as np\n",
    "import pandas as pd\n",
    "import matplotlib.pyplot as plt\n",
    "import seaborn as sns"
   ]
  },
  {
   "cell_type": "code",
   "execution_count": 3,
   "id": "7da1e6d1-62e8-4530-b77d-491c5ef54fa9",
   "metadata": {},
   "outputs": [],
   "source": [
    "df = pd.read_csv('Data_Sets/road_accident_dataset.csv')"
   ]
  },
  {
   "cell_type": "code",
   "execution_count": 6,
   "id": "6e65f626-da6d-42b9-bf0c-60f0230d3168",
   "metadata": {},
   "outputs": [
    {
     "data": {
      "text/html": [
       "<div>\n",
       "<style scoped>\n",
       "    .dataframe tbody tr th:only-of-type {\n",
       "        vertical-align: middle;\n",
       "    }\n",
       "\n",
       "    .dataframe tbody tr th {\n",
       "        vertical-align: top;\n",
       "    }\n",
       "\n",
       "    .dataframe thead th {\n",
       "        text-align: right;\n",
       "    }\n",
       "</style>\n",
       "<table border=\"1\" class=\"dataframe\">\n",
       "  <thead>\n",
       "    <tr style=\"text-align: right;\">\n",
       "      <th></th>\n",
       "      <th>Country</th>\n",
       "      <th>Year</th>\n",
       "      <th>Month</th>\n",
       "      <th>Day of Week</th>\n",
       "      <th>Time of Day</th>\n",
       "      <th>Urban/Rural</th>\n",
       "      <th>Road Type</th>\n",
       "      <th>Weather Conditions</th>\n",
       "      <th>Visibility Level</th>\n",
       "      <th>Number of Vehicles Involved</th>\n",
       "      <th>...</th>\n",
       "      <th>Number of Fatalities</th>\n",
       "      <th>Emergency Response Time</th>\n",
       "      <th>Traffic Volume</th>\n",
       "      <th>Road Condition</th>\n",
       "      <th>Accident Cause</th>\n",
       "      <th>Insurance Claims</th>\n",
       "      <th>Medical Cost</th>\n",
       "      <th>Economic Loss</th>\n",
       "      <th>Region</th>\n",
       "      <th>Population Density</th>\n",
       "    </tr>\n",
       "  </thead>\n",
       "  <tbody>\n",
       "    <tr>\n",
       "      <th>0</th>\n",
       "      <td>USA</td>\n",
       "      <td>2002</td>\n",
       "      <td>October</td>\n",
       "      <td>Tuesday</td>\n",
       "      <td>Evening</td>\n",
       "      <td>Rural</td>\n",
       "      <td>Street</td>\n",
       "      <td>Windy</td>\n",
       "      <td>220.414651</td>\n",
       "      <td>1</td>\n",
       "      <td>...</td>\n",
       "      <td>2</td>\n",
       "      <td>58.625720</td>\n",
       "      <td>7412.752760</td>\n",
       "      <td>Wet</td>\n",
       "      <td>Weather</td>\n",
       "      <td>4</td>\n",
       "      <td>40499.856982</td>\n",
       "      <td>22072.878502</td>\n",
       "      <td>Europe</td>\n",
       "      <td>3866.273014</td>\n",
       "    </tr>\n",
       "    <tr>\n",
       "      <th>1</th>\n",
       "      <td>UK</td>\n",
       "      <td>2014</td>\n",
       "      <td>December</td>\n",
       "      <td>Saturday</td>\n",
       "      <td>Evening</td>\n",
       "      <td>Urban</td>\n",
       "      <td>Street</td>\n",
       "      <td>Windy</td>\n",
       "      <td>168.311358</td>\n",
       "      <td>3</td>\n",
       "      <td>...</td>\n",
       "      <td>1</td>\n",
       "      <td>58.041380</td>\n",
       "      <td>4458.628820</td>\n",
       "      <td>Snow-covered</td>\n",
       "      <td>Mechanical Failure</td>\n",
       "      <td>3</td>\n",
       "      <td>6486.600073</td>\n",
       "      <td>9534.399441</td>\n",
       "      <td>North America</td>\n",
       "      <td>2333.916224</td>\n",
       "    </tr>\n",
       "    <tr>\n",
       "      <th>2</th>\n",
       "      <td>USA</td>\n",
       "      <td>2012</td>\n",
       "      <td>July</td>\n",
       "      <td>Sunday</td>\n",
       "      <td>Afternoon</td>\n",
       "      <td>Urban</td>\n",
       "      <td>Highway</td>\n",
       "      <td>Snowy</td>\n",
       "      <td>341.286506</td>\n",
       "      <td>4</td>\n",
       "      <td>...</td>\n",
       "      <td>4</td>\n",
       "      <td>42.374452</td>\n",
       "      <td>9856.915064</td>\n",
       "      <td>Wet</td>\n",
       "      <td>Speeding</td>\n",
       "      <td>4</td>\n",
       "      <td>29164.412982</td>\n",
       "      <td>58009.145124</td>\n",
       "      <td>South America</td>\n",
       "      <td>4408.889129</td>\n",
       "    </tr>\n",
       "    <tr>\n",
       "      <th>3</th>\n",
       "      <td>UK</td>\n",
       "      <td>2017</td>\n",
       "      <td>May</td>\n",
       "      <td>Saturday</td>\n",
       "      <td>Evening</td>\n",
       "      <td>Urban</td>\n",
       "      <td>Main Road</td>\n",
       "      <td>Clear</td>\n",
       "      <td>489.384536</td>\n",
       "      <td>2</td>\n",
       "      <td>...</td>\n",
       "      <td>3</td>\n",
       "      <td>48.554014</td>\n",
       "      <td>4958.646267</td>\n",
       "      <td>Icy</td>\n",
       "      <td>Distracted Driving</td>\n",
       "      <td>3</td>\n",
       "      <td>25797.212566</td>\n",
       "      <td>20907.151302</td>\n",
       "      <td>Australia</td>\n",
       "      <td>2810.822423</td>\n",
       "    </tr>\n",
       "    <tr>\n",
       "      <th>4</th>\n",
       "      <td>Canada</td>\n",
       "      <td>2002</td>\n",
       "      <td>July</td>\n",
       "      <td>Tuesday</td>\n",
       "      <td>Afternoon</td>\n",
       "      <td>Rural</td>\n",
       "      <td>Highway</td>\n",
       "      <td>Rainy</td>\n",
       "      <td>348.344850</td>\n",
       "      <td>1</td>\n",
       "      <td>...</td>\n",
       "      <td>4</td>\n",
       "      <td>18.318250</td>\n",
       "      <td>3843.191463</td>\n",
       "      <td>Icy</td>\n",
       "      <td>Distracted Driving</td>\n",
       "      <td>8</td>\n",
       "      <td>15605.293921</td>\n",
       "      <td>13584.060759</td>\n",
       "      <td>South America</td>\n",
       "      <td>3883.645634</td>\n",
       "    </tr>\n",
       "  </tbody>\n",
       "</table>\n",
       "<p>5 rows × 30 columns</p>\n",
       "</div>"
      ],
      "text/plain": [
       "  Country  Year     Month Day of Week Time of Day Urban/Rural  Road Type  \\\n",
       "0     USA  2002   October     Tuesday     Evening       Rural     Street   \n",
       "1      UK  2014  December    Saturday     Evening       Urban     Street   \n",
       "2     USA  2012      July      Sunday   Afternoon       Urban    Highway   \n",
       "3      UK  2017       May    Saturday     Evening       Urban  Main Road   \n",
       "4  Canada  2002      July     Tuesday   Afternoon       Rural    Highway   \n",
       "\n",
       "  Weather Conditions  Visibility Level  Number of Vehicles Involved  ...  \\\n",
       "0              Windy        220.414651                            1  ...   \n",
       "1              Windy        168.311358                            3  ...   \n",
       "2              Snowy        341.286506                            4  ...   \n",
       "3              Clear        489.384536                            2  ...   \n",
       "4              Rainy        348.344850                            1  ...   \n",
       "\n",
       "   Number of Fatalities Emergency Response Time Traffic Volume  \\\n",
       "0                     2               58.625720    7412.752760   \n",
       "1                     1               58.041380    4458.628820   \n",
       "2                     4               42.374452    9856.915064   \n",
       "3                     3               48.554014    4958.646267   \n",
       "4                     4               18.318250    3843.191463   \n",
       "\n",
       "   Road Condition      Accident Cause Insurance Claims  Medical Cost  \\\n",
       "0             Wet             Weather                4  40499.856982   \n",
       "1    Snow-covered  Mechanical Failure                3   6486.600073   \n",
       "2             Wet            Speeding                4  29164.412982   \n",
       "3             Icy  Distracted Driving                3  25797.212566   \n",
       "4             Icy  Distracted Driving                8  15605.293921   \n",
       "\n",
       "   Economic Loss         Region  Population Density  \n",
       "0   22072.878502         Europe         3866.273014  \n",
       "1    9534.399441  North America         2333.916224  \n",
       "2   58009.145124  South America         4408.889129  \n",
       "3   20907.151302      Australia         2810.822423  \n",
       "4   13584.060759  South America         3883.645634  \n",
       "\n",
       "[5 rows x 30 columns]"
      ]
     },
     "execution_count": 6,
     "metadata": {},
     "output_type": "execute_result"
    }
   ],
   "source": [
    "df.head()"
   ]
  },
  {
   "cell_type": "code",
   "execution_count": 8,
   "id": "7b40925a-7d9f-4cf2-a4cd-085c1984118a",
   "metadata": {},
   "outputs": [
    {
     "data": {
      "text/plain": [
       "(132000, 30)"
      ]
     },
     "execution_count": 8,
     "metadata": {},
     "output_type": "execute_result"
    }
   ],
   "source": [
    "df.shape"
   ]
  },
  {
   "cell_type": "code",
   "execution_count": 10,
   "id": "3063c9ae-2f4b-4f8c-83e8-2995e5d66652",
   "metadata": {},
   "outputs": [
    {
     "data": {
      "text/plain": [
       "<bound method DataFrame.info of           Country  Year     Month Day of Week Time of Day Urban/Rural  \\\n",
       "0             USA  2002   October     Tuesday     Evening       Rural   \n",
       "1              UK  2014  December    Saturday     Evening       Urban   \n",
       "2             USA  2012      July      Sunday   Afternoon       Urban   \n",
       "3              UK  2017       May    Saturday     Evening       Urban   \n",
       "4          Canada  2002      July     Tuesday   Afternoon       Rural   \n",
       "...           ...   ...       ...         ...         ...         ...   \n",
       "131995    Germany  2023      June   Wednesday     Evening       Rural   \n",
       "131996     Brazil  2023   January     Tuesday     Morning       Rural   \n",
       "131997     Russia  2021     March   Wednesday   Afternoon       Urban   \n",
       "131998  Australia  2002       May     Tuesday     Morning       Urban   \n",
       "131999        USA  2022  November     Tuesday     Morning       Urban   \n",
       "\n",
       "        Road Type Weather Conditions  Visibility Level  \\\n",
       "0          Street              Windy        220.414651   \n",
       "1          Street              Windy        168.311358   \n",
       "2         Highway              Snowy        341.286506   \n",
       "3       Main Road              Clear        489.384536   \n",
       "4         Highway              Rainy        348.344850   \n",
       "...           ...                ...               ...   \n",
       "131995  Main Road              Foggy        351.740871   \n",
       "131996  Main Road              Foggy         95.563567   \n",
       "131997     Street              Clear         74.112102   \n",
       "131998     Street              Rainy        276.612565   \n",
       "131999     Street              Windy        253.531380   \n",
       "\n",
       "        Number of Vehicles Involved  ...  Number of Fatalities  \\\n",
       "0                                 1  ...                     2   \n",
       "1                                 3  ...                     1   \n",
       "2                                 4  ...                     4   \n",
       "3                                 2  ...                     3   \n",
       "4                                 1  ...                     4   \n",
       "...                             ...  ...                   ...   \n",
       "131995                            4  ...                     0   \n",
       "131996                            1  ...                     4   \n",
       "131997                            3  ...                     3   \n",
       "131998                            3  ...                     2   \n",
       "131999                            3  ...                     4   \n",
       "\n",
       "       Emergency Response Time Traffic Volume  Road Condition  \\\n",
       "0                    58.625720    7412.752760             Wet   \n",
       "1                    58.041380    4458.628820    Snow-covered   \n",
       "2                    42.374452    9856.915064             Wet   \n",
       "3                    48.554014    4958.646267             Icy   \n",
       "4                    18.318250    3843.191463             Icy   \n",
       "...                        ...            ...             ...   \n",
       "131995               37.405598    1907.208566             Icy   \n",
       "131996               17.054490    2706.253339             Dry   \n",
       "131997               55.558876    6860.161645             Dry   \n",
       "131998               19.100498    1523.299088             Wet   \n",
       "131999               28.037108    7662.853082    Snow-covered   \n",
       "\n",
       "            Accident Cause Insurance Claims  Medical Cost  Economic Loss  \\\n",
       "0                  Weather                4  40499.856982   22072.878502   \n",
       "1       Mechanical Failure                3   6486.600073    9534.399441   \n",
       "2                 Speeding                4  29164.412982   58009.145124   \n",
       "3       Distracted Driving                3  25797.212566   20907.151302   \n",
       "4       Distracted Driving                8  15605.293921   13584.060759   \n",
       "...                    ...              ...           ...            ...   \n",
       "131995            Speeding                3  18640.125887   50695.311876   \n",
       "131996       Drunk Driving                2  48161.129965   20260.167191   \n",
       "131997            Speeding                9  24696.058692    8132.133502   \n",
       "131998            Speeding                8  13486.716680   17607.573072   \n",
       "131999            Speeding                6   3240.358544   27765.168982   \n",
       "\n",
       "               Region  Population Density  \n",
       "0              Europe         3866.273014  \n",
       "1       North America         2333.916224  \n",
       "2       South America         4408.889129  \n",
       "3           Australia         2810.822423  \n",
       "4       South America         3883.645634  \n",
       "...               ...                 ...  \n",
       "131995           Asia          173.307333  \n",
       "131996           Asia         4375.443810  \n",
       "131997           Asia         4196.244517  \n",
       "131998         Europe         2911.904030  \n",
       "131999           Asia         2949.568694  \n",
       "\n",
       "[132000 rows x 30 columns]>"
      ]
     },
     "execution_count": 10,
     "metadata": {},
     "output_type": "execute_result"
    }
   ],
   "source": [
    "df.info"
   ]
  },
  {
   "cell_type": "code",
   "execution_count": 12,
   "id": "c7db3d1d-db2a-4753-9711-259deace8925",
   "metadata": {},
   "outputs": [
    {
     "data": {
      "text/plain": [
       "array(['USA', 'UK', 'Canada', 'India', 'China', 'Japan', 'Russia',\n",
       "       'Brazil', 'Germany', 'Australia'], dtype=object)"
      ]
     },
     "execution_count": 12,
     "metadata": {},
     "output_type": "execute_result"
    }
   ],
   "source": [
    "df['Country'].unique()"
   ]
  },
  {
   "cell_type": "code",
   "execution_count": 16,
   "id": "889073b3-ef50-40cc-b8c9-54e2fb200d45",
   "metadata": {},
   "outputs": [
    {
     "data": {
      "text/plain": [
       "<Axes: xlabel='Country', ylabel='count'>"
      ]
     },
     "execution_count": 16,
     "metadata": {},
     "output_type": "execute_result"
    },
    {
     "data": {
      "image/png": "[encoded data removed]",
      "text/plain": [
       "<Figure size 640x480 with 1 Axes>"
      ]
     },
     "metadata": {},
     "output_type": "display_data"
    }
   ],
   "source": [
    "sns.countplot(df,x='Country',color='green')"
   ]
  },
  {
   "cell_type": "code",
   "execution_count": 20,
   "id": "8951114a-6851-4431-8e6d-2128a6c066b2",
   "metadata": {},
   "outputs": [
    {
     "data": {
      "text/plain": [
       "array(['Windy', 'Snowy', 'Clear', 'Rainy', 'Foggy'], dtype=object)"
      ]
     },
     "execution_count": 20,
     "metadata": {},
     "output_type": "execute_result"
    }
   ],
   "source": [
    "df['Weather Conditions'].unique()"
   ]
  },
  {
   "cell_type": "code",
   "execution_count": 26,
   "id": "7a668c0d-d1a3-49e6-9fcc-704f174fe4e9",
   "metadata": {},
   "outputs": [
    {
     "data": {
      "image/png": "[encoded data removed]",
      "text/plain": [
       "<Figure size 2000x1000 with 1 Axes>"
      ]
     },
     "metadata": {},
     "output_type": "display_data"
    }
   ],
   "source": [
    "plt.figure(figsize=(20,10))\n",
    "plt.hist(df['Weather Conditions'])\n",
    "plt.show()"
   ]
  },
  {
   "cell_type": "markdown",
   "id": "42908a42-5a2c-4d74-a616-7e2c7cf5aaaf",
   "metadata": {},
   "source": [
    "## Create a csv files for all the countries"
   ]
  },
  {
   "cell_type": "code",
   "execution_count": 29,
   "id": "ce913ec2-05af-4dbf-a3e2-ee052fe06067",
   "metadata": {},
   "outputs": [
    {
     "data": {
      "text/plain": [
       "Index(['Country', 'Year', 'Month', 'Day of Week', 'Time of Day', 'Urban/Rural',\n",
       "       'Road Type', 'Weather Conditions', 'Visibility Level',\n",
       "       'Number of Vehicles Involved', 'Speed Limit', 'Driver Age Group',\n",
       "       'Driver Gender', 'Driver Alcohol Level', 'Driver Fatigue',\n",
       "       'Vehicle Condition', 'Pedestrians Involved', 'Cyclists Involved',\n",
       "       'Accident Severity', 'Number of Injuries', 'Number of Fatalities',\n",
       "       'Emergency Response Time', 'Traffic Volume', 'Road Condition',\n",
       "       'Accident Cause', 'Insurance Claims', 'Medical Cost', 'Economic Loss',\n",
       "       'Region', 'Population Density'],\n",
       "      dtype='object')"
      ]
     },
     "execution_count": 29,
     "metadata": {},
     "output_type": "execute_result"
    }
   ],
   "source": [
    "df.columns"
   ]
  },
  {
   "cell_type": "code",
   "execution_count": 31,
   "id": "d30b679b-2718-496f-bc25-26d7fb5ecda9",
   "metadata": {},
   "outputs": [],
   "source": [
    "USA_data = df[df['Country']=='USA'][['Year', 'Month', 'Day of Week', 'Time of Day', 'Urban/Rural',\n",
    "       'Road Type', 'Weather Conditions', 'Visibility Level',\n",
    "       'Number of Vehicles Involved', 'Speed Limit', 'Driver Age Group',\n",
    "       'Driver Gender', 'Driver Alcohol Level', 'Driver Fatigue',\n",
    "       'Vehicle Condition', 'Pedestrians Involved', 'Cyclists Involved',\n",
    "       'Accident Severity', 'Number of Injuries', 'Number of Fatalities',\n",
    "       'Emergency Response Time', 'Traffic Volume', 'Road Condition',\n",
    "       'Accident Cause', 'Insurance Claims', 'Medical Cost', 'Economic Loss',\n",
    "       'Region', 'Population Density']]"
   ]
  },
  {
   "cell_type": "code",
   "execution_count": 37,
   "id": "81e75d83-2e8e-49aa-b407-e8b3b4adf866",
   "metadata": {},
   "outputs": [
    {
     "data": {
      "text/html": [
       "<div>\n",
       "<style scoped>\n",
       "    .dataframe tbody tr th:only-of-type {\n",
       "        vertical-align: middle;\n",
       "    }\n",
       "\n",
       "    .dataframe tbody tr th {\n",
       "        vertical-align: top;\n",
       "    }\n",
       "\n",
       "    .dataframe thead th {\n",
       "        text-align: right;\n",
       "    }\n",
       "</style>\n",
       "<table border=\"1\" class=\"dataframe\">\n",
       "  <thead>\n",
       "    <tr style=\"text-align: right;\">\n",
       "      <th></th>\n",
       "      <th>Year</th>\n",
       "      <th>Month</th>\n",
       "      <th>Day of Week</th>\n",
       "      <th>Time of Day</th>\n",
       "      <th>Urban/Rural</th>\n",
       "      <th>Road Type</th>\n",
       "      <th>Weather Conditions</th>\n",
       "      <th>Visibility Level</th>\n",
       "      <th>Number of Vehicles Involved</th>\n",
       "      <th>Speed Limit</th>\n",
       "      <th>...</th>\n",
       "      <th>Number of Fatalities</th>\n",
       "      <th>Emergency Response Time</th>\n",
       "      <th>Traffic Volume</th>\n",
       "      <th>Road Condition</th>\n",
       "      <th>Accident Cause</th>\n",
       "      <th>Insurance Claims</th>\n",
       "      <th>Medical Cost</th>\n",
       "      <th>Economic Loss</th>\n",
       "      <th>Region</th>\n",
       "      <th>Population Density</th>\n",
       "    </tr>\n",
       "  </thead>\n",
       "  <tbody>\n",
       "    <tr>\n",
       "      <th>131973</th>\n",
       "      <td>2001</td>\n",
       "      <td>October</td>\n",
       "      <td>Thursday</td>\n",
       "      <td>Evening</td>\n",
       "      <td>Rural</td>\n",
       "      <td>Street</td>\n",
       "      <td>Windy</td>\n",
       "      <td>146.643467</td>\n",
       "      <td>4</td>\n",
       "      <td>97</td>\n",
       "      <td>...</td>\n",
       "      <td>2</td>\n",
       "      <td>17.682593</td>\n",
       "      <td>8101.076117</td>\n",
       "      <td>Dry</td>\n",
       "      <td>Mechanical Failure</td>\n",
       "      <td>9</td>\n",
       "      <td>1319.283847</td>\n",
       "      <td>2051.886104</td>\n",
       "      <td>South America</td>\n",
       "      <td>2442.635813</td>\n",
       "    </tr>\n",
       "    <tr>\n",
       "      <th>131974</th>\n",
       "      <td>2024</td>\n",
       "      <td>October</td>\n",
       "      <td>Tuesday</td>\n",
       "      <td>Evening</td>\n",
       "      <td>Rural</td>\n",
       "      <td>Street</td>\n",
       "      <td>Rainy</td>\n",
       "      <td>372.800074</td>\n",
       "      <td>1</td>\n",
       "      <td>58</td>\n",
       "      <td>...</td>\n",
       "      <td>4</td>\n",
       "      <td>53.096533</td>\n",
       "      <td>8332.596496</td>\n",
       "      <td>Dry</td>\n",
       "      <td>Distracted Driving</td>\n",
       "      <td>7</td>\n",
       "      <td>47514.887957</td>\n",
       "      <td>48014.127710</td>\n",
       "      <td>South America</td>\n",
       "      <td>319.223863</td>\n",
       "    </tr>\n",
       "    <tr>\n",
       "      <th>131975</th>\n",
       "      <td>2002</td>\n",
       "      <td>May</td>\n",
       "      <td>Monday</td>\n",
       "      <td>Morning</td>\n",
       "      <td>Rural</td>\n",
       "      <td>Street</td>\n",
       "      <td>Clear</td>\n",
       "      <td>479.176077</td>\n",
       "      <td>3</td>\n",
       "      <td>77</td>\n",
       "      <td>...</td>\n",
       "      <td>4</td>\n",
       "      <td>44.292749</td>\n",
       "      <td>2414.744593</td>\n",
       "      <td>Snow-covered</td>\n",
       "      <td>Mechanical Failure</td>\n",
       "      <td>0</td>\n",
       "      <td>42565.040944</td>\n",
       "      <td>80321.297914</td>\n",
       "      <td>North America</td>\n",
       "      <td>4696.424206</td>\n",
       "    </tr>\n",
       "    <tr>\n",
       "      <th>131976</th>\n",
       "      <td>2010</td>\n",
       "      <td>June</td>\n",
       "      <td>Tuesday</td>\n",
       "      <td>Morning</td>\n",
       "      <td>Rural</td>\n",
       "      <td>Highway</td>\n",
       "      <td>Foggy</td>\n",
       "      <td>78.393586</td>\n",
       "      <td>4</td>\n",
       "      <td>65</td>\n",
       "      <td>...</td>\n",
       "      <td>1</td>\n",
       "      <td>54.576489</td>\n",
       "      <td>6196.273701</td>\n",
       "      <td>Dry</td>\n",
       "      <td>Mechanical Failure</td>\n",
       "      <td>2</td>\n",
       "      <td>4740.464758</td>\n",
       "      <td>58955.546816</td>\n",
       "      <td>South America</td>\n",
       "      <td>3898.262977</td>\n",
       "    </tr>\n",
       "    <tr>\n",
       "      <th>131999</th>\n",
       "      <td>2022</td>\n",
       "      <td>November</td>\n",
       "      <td>Tuesday</td>\n",
       "      <td>Morning</td>\n",
       "      <td>Urban</td>\n",
       "      <td>Street</td>\n",
       "      <td>Windy</td>\n",
       "      <td>253.531380</td>\n",
       "      <td>3</td>\n",
       "      <td>44</td>\n",
       "      <td>...</td>\n",
       "      <td>4</td>\n",
       "      <td>28.037108</td>\n",
       "      <td>7662.853082</td>\n",
       "      <td>Snow-covered</td>\n",
       "      <td>Speeding</td>\n",
       "      <td>6</td>\n",
       "      <td>3240.358544</td>\n",
       "      <td>27765.168982</td>\n",
       "      <td>Asia</td>\n",
       "      <td>2949.568694</td>\n",
       "    </tr>\n",
       "  </tbody>\n",
       "</table>\n",
       "<p>5 rows × 29 columns</p>\n",
       "</div>"
      ],
      "text/plain": [
       "        Year     Month Day of Week Time of Day Urban/Rural Road Type  \\\n",
       "131973  2001   October    Thursday     Evening       Rural    Street   \n",
       "131974  2024   October     Tuesday     Evening       Rural    Street   \n",
       "131975  2002       May      Monday     Morning       Rural    Street   \n",
       "131976  2010      June     Tuesday     Morning       Rural   Highway   \n",
       "131999  2022  November     Tuesday     Morning       Urban    Street   \n",
       "\n",
       "       Weather Conditions  Visibility Level  Number of Vehicles Involved  \\\n",
       "131973              Windy        146.643467                            4   \n",
       "131974              Rainy        372.800074                            1   \n",
       "131975              Clear        479.176077                            3   \n",
       "131976              Foggy         78.393586                            4   \n",
       "131999              Windy        253.531380                            3   \n",
       "\n",
       "        Speed Limit  ... Number of Fatalities Emergency Response Time  \\\n",
       "131973           97  ...                    2               17.682593   \n",
       "131974           58  ...                    4               53.096533   \n",
       "131975           77  ...                    4               44.292749   \n",
       "131976           65  ...                    1               54.576489   \n",
       "131999           44  ...                    4               28.037108   \n",
       "\n",
       "        Traffic Volume  Road Condition      Accident Cause  Insurance Claims  \\\n",
       "131973     8101.076117             Dry  Mechanical Failure                 9   \n",
       "131974     8332.596496             Dry  Distracted Driving                 7   \n",
       "131975     2414.744593    Snow-covered  Mechanical Failure                 0   \n",
       "131976     6196.273701             Dry  Mechanical Failure                 2   \n",
       "131999     7662.853082    Snow-covered            Speeding                 6   \n",
       "\n",
       "        Medical Cost Economic Loss         Region  Population Density  \n",
       "131973   1319.283847   2051.886104  South America         2442.635813  \n",
       "131974  47514.887957  48014.127710  South America          319.223863  \n",
       "131975  42565.040944  80321.297914  North America         4696.424206  \n",
       "131976   4740.464758  58955.546816  South America         3898.262977  \n",
       "131999   3240.358544  27765.168982           Asia         2949.568694  \n",
       "\n",
       "[5 rows x 29 columns]"
      ]
     },
     "execution_count": 37,
     "metadata": {},
     "output_type": "execute_result"
    }
   ],
   "source": [
    "USA_data.tail()"
   ]
  },
  {
   "cell_type": "code",
   "execution_count": 35,
   "id": "aa242c4b-33d6-48c3-9381-0811b3c7ade7",
   "metadata": {},
   "outputs": [
    {
     "data": {
      "text/plain": [
       "(13125, 29)"
      ]
     },
     "execution_count": 35,
     "metadata": {},
     "output_type": "execute_result"
    }
   ],
   "source": [
    "USA_data.shape"
   ]
  },
  {
   "cell_type": "code",
   "execution_count": 45,
   "id": "fc2c02aa-9771-4228-bf93-1187d3d012bd",
   "metadata": {},
   "outputs": [],
   "source": [
    "USA_data = df[df['Country']=='USA'][['Year', 'Month', 'Day of Week', 'Time of Day', 'Urban/Rural',\n",
    "       'Road Type', 'Weather Conditions', 'Visibility Level',\n",
    "       'Number of Vehicles Involved', 'Speed Limit', 'Driver Age Group',\n",
    "       'Driver Gender', 'Driver Alcohol Level', 'Driver Fatigue',\n",
    "       'Vehicle Condition', 'Pedestrians Involved', 'Cyclists Involved',\n",
    "       'Accident Severity', 'Number of Injuries', 'Number of Fatalities',\n",
    "       'Emergency Response Time', 'Traffic Volume', 'Road Condition',\n",
    "       'Accident Cause', 'Insurance Claims', 'Medical Cost', 'Economic Loss',\n",
    "       'Region', 'Population Density']]\n",
    "\n",
    "UK_data = df[df['Country']=='UK'][['Year', 'Month', 'Day of Week', 'Time of Day', 'Urban/Rural',\n",
    "       'Road Type', 'Weather Conditions', 'Visibility Level',\n",
    "       'Number of Vehicles Involved', 'Speed Limit', 'Driver Age Group',\n",
    "       'Driver Gender', 'Driver Alcohol Level', 'Driver Fatigue',\n",
    "       'Vehicle Condition', 'Pedestrians Involved', 'Cyclists Involved',\n",
    "       'Accident Severity', 'Number of Injuries', 'Number of Fatalities',\n",
    "       'Emergency Response Time', 'Traffic Volume', 'Road Condition',\n",
    "       'Accident Cause', 'Insurance Claims', 'Medical Cost', 'Economic Loss',\n",
    "       'Region', 'Population Density']]\n",
    "\n",
    "Canada_data = df[df['Country']=='Canada'][['Year', 'Month', 'Day of Week', 'Time of Day', 'Urban/Rural',\n",
    "       'Road Type', 'Weather Conditions', 'Visibility Level',\n",
    "       'Number of Vehicles Involved', 'Speed Limit', 'Driver Age Group',\n",
    "       'Driver Gender', 'Driver Alcohol Level', 'Driver Fatigue',\n",
    "       'Vehicle Condition', 'Pedestrians Involved', 'Cyclists Involved',\n",
    "       'Accident Severity', 'Number of Injuries', 'Number of Fatalities',\n",
    "       'Emergency Response Time', 'Traffic Volume', 'Road Condition',\n",
    "       'Accident Cause', 'Insurance Claims', 'Medical Cost', 'Economic Loss',\n",
    "       'Region', 'Population Density']]\n",
    "\n",
    "India_data = df[df['Country']=='India'][['Year', 'Month', 'Day of Week', 'Time of Day', 'Urban/Rural',\n",
    "       'Road Type', 'Weather Conditions', 'Visibility Level',\n",
    "       'Number of Vehicles Involved', 'Speed Limit', 'Driver Age Group',\n",
    "       'Driver Gender', 'Driver Alcohol Level', 'Driver Fatigue',\n",
    "       'Vehicle Condition', 'Pedestrians Involved', 'Cyclists Involved',\n",
    "       'Accident Severity', 'Number of Injuries', 'Number of Fatalities',\n",
    "       'Emergency Response Time', 'Traffic Volume', 'Road Condition',\n",
    "       'Accident Cause', 'Insurance Claims', 'Medical Cost', 'Economic Loss',\n",
    "       'Region', 'Population Density']]\n",
    "\n",
    "China_data = df[df['Country']=='China'][['Year', 'Month', 'Day of Week', 'Time of Day', 'Urban/Rural',\n",
    "       'Road Type', 'Weather Conditions', 'Visibility Level',\n",
    "       'Number of Vehicles Involved', 'Speed Limit', 'Driver Age Group',\n",
    "       'Driver Gender', 'Driver Alcohol Level', 'Driver Fatigue',\n",
    "       'Vehicle Condition', 'Pedestrians Involved', 'Cyclists Involved',\n",
    "       'Accident Severity', 'Number of Injuries', 'Number of Fatalities',\n",
    "       'Emergency Response Time', 'Traffic Volume', 'Road Condition',\n",
    "       'Accident Cause', 'Insurance Claims', 'Medical Cost', 'Economic Loss',\n",
    "       'Region', 'Population Density']]\n",
    "\n",
    "Japan_data = df[df['Country']=='Japan'][['Year', 'Month', 'Day of Week', 'Time of Day', 'Urban/Rural',\n",
    "       'Road Type', 'Weather Conditions', 'Visibility Level',\n",
    "       'Number of Vehicles Involved', 'Speed Limit', 'Driver Age Group',\n",
    "       'Driver Gender', 'Driver Alcohol Level', 'Driver Fatigue',\n",
    "       'Vehicle Condition', 'Pedestrians Involved', 'Cyclists Involved',\n",
    "       'Accident Severity', 'Number of Injuries', 'Number of Fatalities',\n",
    "       'Emergency Response Time', 'Traffic Volume', 'Road Condition',\n",
    "       'Accident Cause', 'Insurance Claims', 'Medical Cost', 'Economic Loss',\n",
    "       'Region', 'Population Density']]\n",
    "\n",
    "Russia_data = df[df['Country']=='Russia'][['Year', 'Month', 'Day of Week', 'Time of Day', 'Urban/Rural',\n",
    "       'Road Type', 'Weather Conditions', 'Visibility Level',\n",
    "       'Number of Vehicles Involved', 'Speed Limit', 'Driver Age Group',\n",
    "       'Driver Gender', 'Driver Alcohol Level', 'Driver Fatigue',\n",
    "       'Vehicle Condition', 'Pedestrians Involved', 'Cyclists Involved',\n",
    "       'Accident Severity', 'Number of Injuries', 'Number of Fatalities',\n",
    "       'Emergency Response Time', 'Traffic Volume', 'Road Condition',\n",
    "       'Accident Cause', 'Insurance Claims', 'Medical Cost', 'Economic Loss',\n",
    "       'Region', 'Population Density']]\n",
    "\n",
    "Brazil_data = df[df['Country']=='Canada'][['Year', 'Month', 'Day of Week', 'Time of Day', 'Urban/Rural',\n",
    "       'Road Type', 'Weather Conditions', 'Visibility Level',\n",
    "       'Number of Vehicles Involved', 'Speed Limit', 'Driver Age Group',\n",
    "       'Driver Gender', 'Driver Alcohol Level', 'Driver Fatigue',\n",
    "       'Vehicle Condition', 'Pedestrians Involved', 'Cyclists Involved',\n",
    "       'Accident Severity', 'Number of Injuries', 'Number of Fatalities',\n",
    "       'Emergency Response Time', 'Traffic Volume', 'Road Condition',\n",
    "       'Accident Cause', 'Insurance Claims', 'Medical Cost', 'Economic Loss',\n",
    "       'Region', 'Population Density']]\n",
    "\n",
    "Germany_data = df[df['Country']=='Germany'][['Year', 'Month', 'Day of Week', 'Time of Day', 'Urban/Rural',\n",
    "       'Road Type', 'Weather Conditions', 'Visibility Level',\n",
    "       'Number of Vehicles Involved', 'Speed Limit', 'Driver Age Group',\n",
    "       'Driver Gender', 'Driver Alcohol Level', 'Driver Fatigue',\n",
    "       'Vehicle Condition', 'Pedestrians Involved', 'Cyclists Involved',\n",
    "       'Accident Severity', 'Number of Injuries', 'Number of Fatalities',\n",
    "       'Emergency Response Time', 'Traffic Volume', 'Road Condition',\n",
    "       'Accident Cause', 'Insurance Claims', 'Medical Cost', 'Economic Loss',\n",
    "       'Region', 'Population Density']]\n",
    "\n",
    "Australia_data = df[df['Country']=='Australia'][['Year', 'Month', 'Day of Week', 'Time of Day', 'Urban/Rural',\n",
    "       'Road Type', 'Weather Conditions', 'Visibility Level',\n",
    "       'Number of Vehicles Involved', 'Speed Limit', 'Driver Age Group',\n",
    "       'Driver Gender', 'Driver Alcohol Level', 'Driver Fatigue',\n",
    "       'Vehicle Condition', 'Pedestrians Involved', 'Cyclists Involved',\n",
    "       'Accident Severity', 'Number of Injuries', 'Number of Fatalities',\n",
    "       'Emergency Response Time', 'Traffic Volume', 'Road Condition',\n",
    "       'Accident Cause', 'Insurance Claims', 'Medical Cost', 'Economic Loss',\n",
    "       'Region', 'Population Density']]\n",
    "\n",
    "USA_data.to_csv('Data_Sets/USA_data.csv')\n",
    "UK_data.to_csv('Data_Sets/UK_data.csv')\n",
    "Canada_data.to_csv('Data_Sets/Canada_data.csv')\n",
    "India_data.to_csv('Data_Sets/India_data.csv')\n",
    "China_data.to_csv('Data_Sets/China_data.csv')\n",
    "Japan_data.to_csv('Data_Sets/Japan_data.csv')\n",
    "Russia_data.to_csv('Data_Sets/Russia_data.csv')\n",
    "Brazil_data.to_csv('Data_Sets/Brazil_data.csv')\n",
    "Germany_data.to_csv('Data_Sets/Germany_data.csv')\n",
    "Australia_data.to_csv('Data_Sets/Australia_data.csv')\n"
   ]
  },
  {
   "cell_type": "markdown",
   "id": "d0fa44f0-d150-40e7-8f8b-5f361406cd22",
   "metadata": {},
   "source": [
    "## Identifying the  Major Causes of Accidents"
   ]
  },
  {
   "cell_type": "code",
   "execution_count": 25,
   "id": "4c8479bf-d793-4004-af75-e46635ea6907",
   "metadata": {},
   "outputs": [
    {
     "data": {
      "image/png": "[encoded data removed]",
      "text/plain": [
       "<Figure size 1000x800 with 1 Axes>"
      ]
     },
     "metadata": {},
     "output_type": "display_data"
    }
   ],
   "source": [
    "\n",
    "fatalities_by_road_condition = df.groupby('Road Condition')['Number of Fatalities'].sum()\n",
    "\n",
    "# Plotting the bar chart\n",
    "plt.figure(figsize=(10, 8))\n",
    "plt.bar(x=fatalities_by_road_condition.index, height=fatalities_by_road_condition.values, color='green')\n",
    "plt.xticks(rotation=45, ha='right')  # Rotate country names for better readability\n",
    "plt.title('Number of Fatalities by Road Condition')\n",
    "plt.xlabel('Road Condition')\n",
    "plt.ylabel('Number of Fatalities')\n",
    "plt.show()"
   ]
  },
  {
   "cell_type": "code",
   "execution_count": 35,
   "id": "94ba7c10-d83a-4a40-b7b3-39f205653893",
   "metadata": {},
   "outputs": [
    {
     "data": {
      "image/png": "[encoded data removed]",
      "text/plain": [
       "<Figure size 1000x800 with 1 Axes>"
      ]
     },
     "metadata": {},
     "output_type": "display_data"
    }
   ],
   "source": [
    "## Accident due to time constraints\n",
    "plt.figure(figsize=(10,8))\n",
    "plt.pie(df['Time of Day'].value_counts(),labels=df['Time of Day'].value_counts().index,autopct='%1.1f%%')\n",
    "plt.title('Cause of Accident due to Time Constraints')\n",
    "plt.show()"
   ]
  },
  {
   "cell_type": "markdown",
   "id": "de5073df-a67c-4f6d-b30e-ceaa1f5e7e14",
   "metadata": {},
   "source": [
    "## Accident Severity and Impact Analysis"
   ]
  },
  {
   "cell_type": "code",
   "execution_count": 60,
   "id": "2c087b58-c987-48b0-aa5b-18cf243a8576",
   "metadata": {},
   "outputs": [
    {
     "data": {
      "image/png": "[encoded data removed]",
      "text/plain": [
       "<Figure size 400x200 with 1 Axes>"
      ]
     },
     "metadata": {},
     "output_type": "display_data"
    }
   ],
   "source": [
    "fatalities_by_area = df.groupby('Urban/Rural')['Number of Fatalities'].sum()\n",
    "\n",
    "# Plotting the bar chart\n",
    "plt.figure(figsize=(4, 2))\n",
    "plt.bar(x=fatalities_by_area.index, height=fatalities_by_area.values, color='purple')\n",
    "plt.title('Fatalities by Urban/Rural Area')\n",
    "plt.xlabel('Area Type')\n",
    "plt.ylabel('Number of Fatalities')\n",
    "plt.show()"
   ]
  },
  {
   "cell_type": "code",
   "execution_count": null,
   "id": "a3450e6c-cc42-4878-956b-988374a7c644",
   "metadata": {},
   "outputs": [],
   "source": []
  }
 ],
 "metadata": {
  "kernelspec": {
   "display_name": "Python [conda env:base] *",
   "language": "python",
   "name": "conda-base-py"
  },
  "language_info": {
   "codemirror_mode": {
    "name": "ipython",
    "version": 3
   },
   "file_extension": ".py",
   "mimetype": "text/x-python",
   "name": "python",
   "nbconvert_exporter": "python",
   "pygments_lexer": "ipython3",
   "version": "3.12.7"
  }
 },
 "nbformat": 4,
 "nbformat_minor": 5
}
